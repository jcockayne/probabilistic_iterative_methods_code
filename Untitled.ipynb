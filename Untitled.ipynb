{
 "cells": [
  {
   "cell_type": "code",
   "execution_count": 69,
   "metadata": {},
   "outputs": [],
   "source": [
    "import numpy as np\n",
    "import scipy.spatial, scipy.linalg\n",
    "import matplotlib.pyplot as plt\n",
    "%matplotlib inline"
   ]
  },
  {
   "cell_type": "code",
   "execution_count": 64,
   "metadata": {},
   "outputs": [],
   "source": [
    "np.random.seed(1)"
   ]
  },
  {
   "cell_type": "code",
   "execution_count": 65,
   "metadata": {},
   "outputs": [],
   "source": [
    "N = 43\n",
    "M = 1000\n",
    "X = np.concatenate([\n",
    "    np.linspace(0, 0.1, 20),\n",
    "    np.linspace(0.2, 0.7, 3),\n",
    "    np.linspace(0.8, 0.9, 20)\n",
    "]) # grid on which data are obtained\n",
    "X = X[:,None]\n",
    "Y = np.linspace(0, 1, M) # plotting grid"
   ]
  },
  {
   "cell_type": "code",
   "execution_count": 66,
   "metadata": {},
   "outputs": [],
   "source": [
    "def f(x):\n",
    "    res = np.empty_like(x)\n",
    "    ind = x < 0.5\n",
    "    res[ind] = np.sin(2*np.pi*x[ind])\n",
    "    res[~ind] = np.sin(4*np.pi*x[~ind])\n",
    "    return res"
   ]
  },
  {
   "cell_type": "code",
   "execution_count": 71,
   "metadata": {},
   "outputs": [],
   "source": [
    "def k_gaussian(x, y, ls):\n",
    "    d = (scipy.spatial.distance.cdist(x, y) / ls)**2\n",
    "    return np.exp(-d)\n",
    "def k_imq(x, y, ls):\n",
    "    d = (scipy.spatial.distance.cdist(x, y) / ls)**2\n",
    "    return 1./(1 + d)\n",
    "lamb = 0.01\n",
    "k = lambda x, y: k_imq(x, y, lamb)"
   ]
  },
  {
   "cell_type": "code",
   "execution_count": 72,
   "metadata": {},
   "outputs": [],
   "source": [
    "# build the parts of the linear system whose solution is the vector w\n",
    "f_X = f(X)\n",
    "k_X = k(X, X)"
   ]
  },
  {
   "cell_type": "code",
   "execution_count": 73,
   "metadata": {},
   "outputs": [
    {
     "data": {
      "text/plain": [
       "<matplotlib.image.AxesImage at 0x1250ee0d0>"
      ]
     },
     "execution_count": 73,
     "metadata": {},
     "output_type": "execute_result"
    },
    {
     "data": {
      "image/png": "[encoded data removed]",
      "text/plain": [
       "<Figure size 288x288 with 1 Axes>"
      ]
     },
     "metadata": {
      "needs_background": "light"
     },
     "output_type": "display_data"
    }
   ],
   "source": [
    "plt.matshow(k_X)"
   ]
  },
  {
   "cell_type": "code",
   "execution_count": 74,
   "metadata": {},
   "outputs": [],
   "source": [
    "assert np.max(np.linalg.eigvals(k_X > 0)), \"Kernel matrix is not SPD\""
   ]
  },
  {
   "cell_type": "code",
   "execution_count": 75,
   "metadata": {},
   "outputs": [],
   "source": [
    "class IterativeMethod(object):\n",
    "    def __init__(self, G, f):\n",
    "        self.G = G\n",
    "        self.f = f\n",
    "        \n",
    "    def check_convergence(self):\n",
    "        eigs = np.linalg.eigvals(self.G)\n",
    "        assert np.max(eigs) < 1, f\"Spectral radius of G is {np.max(eigs):.2e}, which is >= 1\""
   ]
  },
  {
   "cell_type": "code",
   "execution_count": 81,
   "metadata": {},
   "outputs": [],
   "source": [
    "n = 100\n",
    "def richardson(A, b):\n",
    "    eigs = np.sort(np.linalg.eigvals(A))\n",
    "    eig_min = np.min(np.abs(eigs))\n",
    "    eig_max = np.max(np.abs(eigs))\n",
    "    eps = 2./(eig_min + eig_max)\n",
    "    G = np.eye(len(A)) - eps * A\n",
    "    f = eps * b\n",
    "    \n",
    "    return IterativeMethod(A, f)\n",
    "\n",
    "def jacobi(A, b):\n",
    "    D = np.diag(np.diag(A))\n",
    "    D_inv = np.diag(1./np.diag(A))\n",
    "    G = - D_inv @ (A - D)\n",
    "    f = D_inv @ b\n",
    "    \n",
    "    return IterativeMethod(G, f)"
   ]
  },
  {
   "cell_type": "code",
   "execution_count": 82,
   "metadata": {},
   "outputs": [
    {
     "name": "stdout",
     "output_type": "stream",
     "text": [
      "0.4044264024263101\n"
     ]
    },
    {
     "ename": "AssertionError",
     "evalue": "Spectral radius of G is 4.91e+00, which is >= 1",
     "output_type": "error",
     "traceback": [
      "\u001b[0;31m---------------------------------------------------------------------------\u001b[0m",
      "\u001b[0;31mAssertionError\u001b[0m                            Traceback (most recent call last)",
      "\u001b[0;32m<ipython-input-82-18eb2efc9058>\u001b[0m in \u001b[0;36m<module>\u001b[0;34m\u001b[0m\n\u001b[1;32m      1\u001b[0m \u001b[0mmethod\u001b[0m \u001b[0;34m=\u001b[0m \u001b[0mrichardson\u001b[0m\u001b[0;34m(\u001b[0m\u001b[0mk_X\u001b[0m\u001b[0;34m,\u001b[0m \u001b[0mf_X\u001b[0m\u001b[0;34m)\u001b[0m\u001b[0;34m\u001b[0m\u001b[0;34m\u001b[0m\u001b[0m\n\u001b[0;32m----> 2\u001b[0;31m \u001b[0mmethod\u001b[0m\u001b[0;34m.\u001b[0m\u001b[0mcheck_convergence\u001b[0m\u001b[0;34m(\u001b[0m\u001b[0;34m)\u001b[0m\u001b[0;34m\u001b[0m\u001b[0;34m\u001b[0m\u001b[0m\n\u001b[0m",
      "\u001b[0;32m<ipython-input-75-d2214be267fa>\u001b[0m in \u001b[0;36mcheck_convergence\u001b[0;34m(self)\u001b[0m\n\u001b[1;32m      6\u001b[0m     \u001b[0;32mdef\u001b[0m \u001b[0mcheck_convergence\u001b[0m\u001b[0;34m(\u001b[0m\u001b[0mself\u001b[0m\u001b[0;34m)\u001b[0m\u001b[0;34m:\u001b[0m\u001b[0;34m\u001b[0m\u001b[0;34m\u001b[0m\u001b[0m\n\u001b[1;32m      7\u001b[0m         \u001b[0meigs\u001b[0m \u001b[0;34m=\u001b[0m \u001b[0mnp\u001b[0m\u001b[0;34m.\u001b[0m\u001b[0mlinalg\u001b[0m\u001b[0;34m.\u001b[0m\u001b[0meigvals\u001b[0m\u001b[0;34m(\u001b[0m\u001b[0mself\u001b[0m\u001b[0;34m.\u001b[0m\u001b[0mG\u001b[0m\u001b[0;34m)\u001b[0m\u001b[0;34m\u001b[0m\u001b[0;34m\u001b[0m\u001b[0m\n\u001b[0;32m----> 8\u001b[0;31m         \u001b[0;32massert\u001b[0m \u001b[0mnp\u001b[0m\u001b[0;34m.\u001b[0m\u001b[0mmax\u001b[0m\u001b[0;34m(\u001b[0m\u001b[0meigs\u001b[0m\u001b[0;34m)\u001b[0m \u001b[0;34m<\u001b[0m \u001b[0;36m1\u001b[0m\u001b[0;34m,\u001b[0m \u001b[0;34mf\"Spectral radius of G is {np.max(eigs):.2e}, which is >= 1\"\u001b[0m\u001b[0;34m\u001b[0m\u001b[0;34m\u001b[0m\u001b[0m\n\u001b[0m",
      "\u001b[0;31mAssertionError\u001b[0m: Spectral radius of G is 4.91e+00, which is >= 1"
     ]
    }
   ],
   "source": [
    "method = richardson(k_X, f_X)\n",
    "method.check_convergence()"
   ]
  }
 ],
 "metadata": {
  "kernelspec": {
   "display_name": "Python 3",
   "language": "python",
   "name": "python3"
  },
  "language_info": {
   "codemirror_mode": {
    "name": "ipython",
    "version": 3
   },
   "file_extension": ".py",
   "mimetype": "text/x-python",
   "name": "python",
   "nbconvert_exporter": "python",
   "pygments_lexer": "ipython3",
   "version": "3.7.7"
  },
  "toc": {
   "base_numbering": 1,
   "nav_menu": {},
   "number_sections": true,
   "sideBar": true,
   "skip_h1_title": false,
   "title_cell": "Table of Contents",
   "title_sidebar": "Contents",
   "toc_cell": false,
   "toc_position": {},
   "toc_section_display": true,
   "toc_window_display": true
  }
 },
 "nbformat": 4,
 "nbformat_minor": 4
}
