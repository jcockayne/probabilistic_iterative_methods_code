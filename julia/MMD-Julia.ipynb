{
 "cells": [
  {
   "cell_type": "markdown",
   "metadata": {},
   "source": [
    "# MMD tests in Julia\n",
    "\n",
    "## Setup"
   ]
  },
  {
   "cell_type": "code",
   "execution_count": 1,
   "metadata": {},
   "outputs": [
    {
     "name": "stdout",
     "output_type": "stream",
     "text": [
      "kernel_setup_script.jl has set up the interpolation problem. \n",
      " Interpolation matrix is k_Z and the corresponding x axis is Z The right hand side is f_z. \n",
      " The interpolation matrix for plotting is k_YZ and the corresponding x axis is Y. \n",
      " The direct solution to k_Z \\ f_z is X_direct_solution."
     ]
    }
   ],
   "source": [
    "using LinearAlgebra\n",
    "using Statistics\n",
    "using Plots    # Plots takes a long time to compile\n",
    "using Distributions\n",
    "\n",
    "# Parallel computing to speed up Bootstrap MMD. It still takes time though\n",
    "using Distributed\n",
    "rmprocs(procs()[2:end])\n",
    "addprocs(8) # This should be the number of simultaneous processes your computer can do\n",
    "\n",
    "include(\"MMD.jl\")\n",
    "include(\"IterativeMethods.jl\")\n",
    "include(\"Matrix2Tabular.jl\")\n",
    "\n",
    "include(\"kernel_setup_script.jl\")\n"
   ]
  },
  {
   "cell_type": "code",
   "execution_count": 2,
   "metadata": {},
   "outputs": [],
   "source": [
    "N = length(f_Z)\n",
    "samples = 500;\n",
    "iter = 10;\n",
    "N_mmd_bootstrap = 1000;"
   ]
  },
  {
   "cell_type": "markdown",
   "metadata": {},
   "source": [
    "### Normal distribution sampling function"
   ]
  },
  {
   "cell_type": "code",
   "execution_count": 3,
   "metadata": {},
   "outputs": [
    {
     "data": {
      "text/plain": [
       "mv_normal (generic function with 2 methods)"
      ]
     },
     "execution_count": 3,
     "metadata": {},
     "output_type": "execute_result"
    }
   ],
   "source": [
    "function mv_normal(mean::Array{Float64,1},cov::AbstractMatrix{Float64},N_samples::Int64=1)\n",
    "    M = length(mean)\n",
    "    F = svd(cov)\n",
    "    cov = F.V*(F.S.*F.V')\n",
    "    samples = zeros(M,N_samples)\n",
    "    for i = 1:N_samples\n",
    "        samples[:,i] = mean + cov*randn(N)\n",
    "    end\n",
    "    return samples\n",
    "end\n"
   ]
  },
  {
   "cell_type": "code",
   "execution_count": 4,
   "metadata": {},
   "outputs": [
    {
     "data": {
      "text/plain": [
       "5.963015702953692"
      ]
     },
     "execution_count": 4,
     "metadata": {},
     "output_type": "execute_result"
    }
   ],
   "source": [
    "mle_prior_N_samples = 5\n",
    "mle_prior_samples = mv_normal(zeros(N), Diagonal(ones(N)), mle_prior_N_samples)\n",
    "\n",
    "scale = 0\n",
    "for i = 1:mle_prior_N_samples\n",
    "    scale += norm(k_Z \\ mle_prior_samples[:,i])^2\n",
    "end\n",
    "mle_prior_scale = scale / (N*mle_prior_N_samples)"
   ]
  },
  {
   "cell_type": "markdown",
   "metadata": {},
   "source": [
    "# Methods"
   ]
  },
  {
   "cell_type": "code",
   "execution_count": 5,
   "metadata": {},
   "outputs": [
    {
     "data": {
      "text/plain": [
       "run_bayescg (generic function with 1 method)"
      ]
     },
     "execution_count": 5,
     "metadata": {},
     "output_type": "execute_result"
    }
   ],
   "source": [
    "function run_richardson_default(prior, truth)\n",
    "    x0 = rand(prior)\n",
    "    IterativeMethods.Richardson(k_Z, k_Z*truth, x0, iter, 2/3)\n",
    "end\n",
    "function run_richardson_optimal(prior, truth)\n",
    "    x0 = rand(prior)\n",
    "    IterativeMethods.Richardson(k_Z, k_Z*truth, x0, iter, IterativeMethods.Optimal)\n",
    "end\n",
    "function run_richardson_adaptive(prior, truth)\n",
    "    x0 = rand(prior)\n",
    "    IterativeMethods.Richardson(k_Z, k_Z*truth, x0, iter, IterativeMethods.Adaptive)\n",
    "end\n",
    "function run_richardson_second_order(prior, truth)\n",
    "    x0 = rand(prior)\n",
    "    b = k_Z*truth\n",
    "    prior2 = IterativeMethods.Richardson(k_Z, b, x0, iter, IterativeMethods.Optimal)\n",
    "    IterativeMethods.Richardson2(k_Z, b, [prior2; x0], iter)[1:N]\n",
    "end\n",
    "function run_cg(prior, truth)\n",
    "    x0 = rand(prior)\n",
    "    IterativeMethods.cg(k_Z, k_Z*truth, x0, iter, 1e-10)\n",
    "end\n",
    "function run_bayescg(prior, truth)\n",
    "    inverse_prior = inv(k_Z)\n",
    "    b = k_Z*truth\n",
    "    xm,sigm = IterativeMethods.bayescg(k_Z, b, mean(prior), cov(prior), iter, 1e-10)\n",
    "    mv_normal(xm,sigm)\n",
    "end"
   ]
  },
  {
   "cell_type": "markdown",
   "metadata": {},
   "source": [
    "## MMD Tests\n",
    "\n",
    "### Setup"
   ]
  },
  {
   "cell_type": "code",
   "execution_count": 6,
   "metadata": {},
   "outputs": [
    {
     "data": {
      "text/plain": [
       "compute_q (generic function with 1 method)"
      ]
     },
     "execution_count": 6,
     "metadata": {},
     "output_type": "execute_result"
    }
   ],
   "source": [
    "function run_mmd(input_samples, output_samples; n_samples=100, n_mmd_bootstrap=1000)\n",
    "    ker = MMD.mmd_kernel_factory(input_samples, output_samples)\n",
    "    mmd = MMD.mmd_p(input_samples,output_samples,ker)\n",
    "    boot = MMD.bootstrap_mmd(input_samples[1:n_samples, :], output_samples[1:n_samples, :], ker, n_mmd_bootstrap)\n",
    "    mmd, boot\n",
    "end\n",
    "\n",
    "function compute_q(mmd, boot)\n",
    "    (length(boot[boot.>=mmd]))/(length(boot))\n",
    "end"
   ]
  },
  {
   "cell_type": "code",
   "execution_count": 7,
   "metadata": {},
   "outputs": [],
   "source": [
    "all_priors = [\n",
    "    Distributions.MvNormal(N, 1.0), # Identity\n",
    "    Distributions.MvNormalCanon(zeros(N), k_Z), # Natural\n",
    "    Distributions.MvNormal(zeros(N), mle_prior_scale*I) # MLE\n",
    "];\n",
    "all_methods = [\n",
    "    run_richardson_default,\n",
    "    run_richardson_optimal,\n",
    "    run_richardson_adaptive,\n",
    "    run_richardson_second_order,\n",
    "    run_cg,\n",
    "    run_bayescg\n",
    "];"
   ]
  },
  {
   "cell_type": "code",
   "execution_count": 8,
   "metadata": {},
   "outputs": [
    {
     "data": {
      "text/plain": [
       "broadcast_method (generic function with 1 method)"
      ]
     },
     "execution_count": 8,
     "metadata": {},
     "output_type": "execute_result"
    }
   ],
   "source": [
    "function broadcast_method(method, prior, truths)\n",
    "    method_output = zeros(size(truths))\n",
    "    for i = 1:size(truths, 1)\n",
    "        method_output[i,:] = method(prior, truths[i,:])\n",
    "    end\n",
    "    method_output\n",
    "end"
   ]
  },
  {
   "cell_type": "code",
   "execution_count": 9,
   "metadata": {},
   "outputs": [
    {
     "data": {
      "text/plain": [
       "100"
      ]
     },
     "execution_count": 9,
     "metadata": {},
     "output_type": "execute_result"
    }
   ],
   "source": [
    "n_mmd_bootstrap = 1000\n",
    "n_samples = 100"
   ]
  },
  {
   "cell_type": "code",
   "execution_count": 10,
   "metadata": {},
   "outputs": [],
   "source": [
    "n_methods = length(all_methods);\n",
    "n_priors = length(all_priors);\n",
    "mmds = zeros(n_priors, n_methods);\n",
    "bootstraps = Array{Float64, 3}(undef, n_priors, n_methods, n_mmd_bootstrap)\n",
    "qs = zeros(n_priors, n_methods);"
   ]
  },
  {
   "cell_type": "code",
   "execution_count": 11,
   "metadata": {},
   "outputs": [
    {
     "name": "stdout",
     "output_type": "stream",
     "text": [
      "Prior 1, Method 1 ... Sampling ... Bootstrapping ... Storing\n",
      "Prior 1, Method 2 ... Sampling ... Bootstrapping ... Storing\n",
      "Prior 1, Method 3 ... Sampling ... Bootstrapping ... Storing\n",
      "Prior 1, Method 4 ... Sampling ... Bootstrapping ... Storing\n",
      "Prior 1, Method 5 ... Sampling ... Bootstrapping ... Storing\n",
      "Prior 1, Method 6 ... Sampling ... Bootstrapping ... Storing\n",
      "Prior 2, Method 1 ... Sampling ... Bootstrapping ... Storing\n",
      "Prior 2, Method 2 ... Sampling ... Bootstrapping ... Storing\n",
      "Prior 2, Method 3 ... Sampling ... Bootstrapping ... Storing\n",
      "Prior 2, Method 4 ... Sampling ... Bootstrapping ... Storing\n",
      "Prior 2, Method 5 ... Sampling ... Bootstrapping ... Storing\n",
      "Prior 2, Method 6 ... Sampling ... Bootstrapping ... Storing\n",
      "Prior 3, Method 1 ... Sampling ... Bootstrapping ... Storing\n",
      "Prior 3, Method 2 ... Sampling ... Bootstrapping ... Storing\n",
      "Prior 3, Method 3 ... Sampling ... Bootstrapping ... Storing\n",
      "Prior 3, Method 4 ... Sampling ... Bootstrapping ... Storing\n",
      "Prior 3, Method 5 ... Sampling ... Bootstrapping ... Storing\n",
      "Prior 3, Method 6 ... Sampling ... Bootstrapping ... Storing\n"
     ]
    }
   ],
   "source": [
    "for prior_ix = 1:n_priors\n",
    "    prior = all_priors[prior_ix]\n",
    "    for method_ix = 1:n_methods\n",
    "        print(\"Prior $prior_ix, Method $method_ix\")\n",
    "        method = all_methods[method_ix]\n",
    "        \n",
    "        print(\" ... Sampling\")\n",
    "        s1 = rand(prior, n_samples)'\n",
    "        truth = rand(prior, n_samples)'\n",
    "        # map input sample to output sample\n",
    "        method_output = broadcast_method(method, prior, truth)\n",
    "        \n",
    "        # bootstrap MMD on the output\n",
    "        print(\" ... Bootstrapping\")\n",
    "        mmd, bootstrap = run_mmd(s1, method_output, n_samples=n_samples, n_mmd_bootstrap=n_mmd_bootstrap)\n",
    "        \n",
    "        print(\" ... Storing\")\n",
    "        bootstraps[prior_ix, method_ix, :] = bootstrap\n",
    "        mmds[prior_ix, method_ix] = mmd\n",
    "        qs[prior_ix, method_ix] = compute_q(mmd, bootstrap)\n",
    "        println(\"\")\n",
    "    end\n",
    "end"
   ]
  },
  {
   "cell_type": "code",
   "execution_count": 12,
   "metadata": {},
   "outputs": [
    {
     "data": {
      "image/svg+xml": [
       "<?xml version=\"1.0\" encoding=\"utf-8\"?>\n",
       "<svg xmlns=\"http://www.w3.org/2000/svg\" xmlns:xlink=\"http://www.w3.org/1999/xlink\" width=\"600\" height=\"400\" viewBox=\"0 0 2400 1600\">\n",
       "<defs>\n",
       "  <clipPath id=\"clip250\">\n",
       "    <rect x=\"0\" y=\"0\" width=\"2400\" height=\"1600\"/>\n",
       "  </clipPath>\n",
       "</defs>\n",
       "<path clip-path=\"url(#clip250)\" d=\"\n",
       "M0 1600 L2400 1600 L2400 0 L0 0  Z\n",
       "  \" fill=\"#ffffff\" fill-rule=\"evenodd\" fill-opacity=\"1\"/>\n",
       "<defs>\n",
       "  <clipPath id=\"clip251\">\n",
       "    <rect x=\"480\" y=\"0\" width=\"1681\" height=\"1600\"/>\n",
       "  </clipPath>\n",
       "</defs>\n",
       "<path clip-path=\"url(#clip250)\" d=\"\n",
       "M161.598 1486.45 L2352.76 1486.45 L2352.76 47.2441 L161.598 47.2441  Z\n",
       "  \" fill=\"#ffffff\" fill-rule=\"evenodd\" fill-opacity=\"1\"/>\n",
       "<defs>\n",
       "  <clipPath id=\"clip252\">\n",
       "    <rect x=\"161\" y=\"47\" width=\"2192\" height=\"1440\"/>\n",
       "  </clipPath>\n",
       "</defs>\n",
       "<polyline clip-path=\"url(#clip252)\" style=\"stroke:#000000; stroke-width:2; stroke-opacity:0.1; fill:none\" points=\"\n",
       "  574.634,1486.45 574.634,47.2441 \n",
       "  \"/>\n",
       "<polyline clip-path=\"url(#clip252)\" style=\"stroke:#000000; stroke-width:2; stroke-opacity:0.1; fill:none\" points=\"\n",
       "  1062.16,1486.45 1062.16,47.2441 \n",
       "  \"/>\n",
       "<polyline clip-path=\"url(#clip252)\" style=\"stroke:#000000; stroke-width:2; stroke-opacity:0.1; fill:none\" points=\"\n",
       "  1549.7,1486.45 1549.7,47.2441 \n",
       "  \"/>\n",
       "<polyline clip-path=\"url(#clip252)\" style=\"stroke:#000000; stroke-width:2; stroke-opacity:0.1; fill:none\" points=\"\n",
       "  2037.23,1486.45 2037.23,47.2441 \n",
       "  \"/>\n",
       "<polyline clip-path=\"url(#clip252)\" style=\"stroke:#000000; stroke-width:2; stroke-opacity:0.1; fill:none\" points=\"\n",
       "  161.598,1445.72 2352.76,1445.72 \n",
       "  \"/>\n",
       "<polyline clip-path=\"url(#clip252)\" style=\"stroke:#000000; stroke-width:2; stroke-opacity:0.1; fill:none\" points=\"\n",
       "  161.598,1053.31 2352.76,1053.31 \n",
       "  \"/>\n",
       "<polyline clip-path=\"url(#clip252)\" style=\"stroke:#000000; stroke-width:2; stroke-opacity:0.1; fill:none\" points=\"\n",
       "  161.598,660.895 2352.76,660.895 \n",
       "  \"/>\n",
       "<polyline clip-path=\"url(#clip252)\" style=\"stroke:#000000; stroke-width:2; stroke-opacity:0.1; fill:none\" points=\"\n",
       "  161.598,268.485 2352.76,268.485 \n",
       "  \"/>\n",
       "<polyline clip-path=\"url(#clip250)\" style=\"stroke:#000000; stroke-width:4; stroke-opacity:1; fill:none\" points=\"\n",
       "  161.598,1486.45 2352.76,1486.45 \n",
       "  \"/>\n",
       "<polyline clip-path=\"url(#clip250)\" style=\"stroke:#000000; stroke-width:4; stroke-opacity:1; fill:none\" points=\"\n",
       "  161.598,1486.45 161.598,47.2441 \n",
       "  \"/>\n",
       "<polyline clip-path=\"url(#clip250)\" style=\"stroke:#000000; stroke-width:4; stroke-opacity:1; fill:none\" points=\"\n",
       "  574.634,1486.45 574.634,1469.18 \n",
       "  \"/>\n",
       "<polyline clip-path=\"url(#clip250)\" style=\"stroke:#000000; stroke-width:4; stroke-opacity:1; fill:none\" points=\"\n",
       "  1062.16,1486.45 1062.16,1469.18 \n",
       "  \"/>\n",
       "<polyline clip-path=\"url(#clip250)\" style=\"stroke:#000000; stroke-width:4; stroke-opacity:1; fill:none\" points=\"\n",
       "  1549.7,1486.45 1549.7,1469.18 \n",
       "  \"/>\n",
       "<polyline clip-path=\"url(#clip250)\" style=\"stroke:#000000; stroke-width:4; stroke-opacity:1; fill:none\" points=\"\n",
       "  2037.23,1486.45 2037.23,1469.18 \n",
       "  \"/>\n",
       "<polyline clip-path=\"url(#clip250)\" style=\"stroke:#000000; stroke-width:4; stroke-opacity:1; fill:none\" points=\"\n",
       "  161.598,1445.72 187.892,1445.72 \n",
       "  \"/>\n",
       "<polyline clip-path=\"url(#clip250)\" style=\"stroke:#000000; stroke-width:4; stroke-opacity:1; fill:none\" points=\"\n",
       "  161.598,1053.31 187.892,1053.31 \n",
       "  \"/>\n",
       "<polyline clip-path=\"url(#clip250)\" style=\"stroke:#000000; stroke-width:4; stroke-opacity:1; fill:none\" points=\"\n",
       "  161.598,660.895 187.892,660.895 \n",
       "  \"/>\n",
       "<polyline clip-path=\"url(#clip250)\" style=\"stroke:#000000; stroke-width:4; stroke-opacity:1; fill:none\" points=\"\n",
       "  161.598,268.485 187.892,268.485 \n",
       "  \"/>\n",
       "<path clip-path=\"url(#clip250)\" d=\"M 0 0 M510.005 1525.04 L522.482 1525.04 L522.482 1528.83 L510.005 1528.83 L510.005 1525.04 Z\" fill=\"#000000\" fill-rule=\"evenodd\" fill-opacity=\"1\" /><path clip-path=\"url(#clip250)\" d=\"M 0 0 M537.551 1508.44 Q533.94 1508.44 532.111 1512 Q530.306 1515.55 530.306 1522.67 Q530.306 1529.78 532.111 1533.35 Q533.94 1536.89 537.551 1536.89 Q541.185 1536.89 542.991 1533.35 Q544.82 1529.78 544.82 1522.67 Q544.82 1515.55 542.991 1512 Q541.185 1508.44 537.551 1508.44 M537.551 1504.73 Q543.361 1504.73 546.417 1509.34 Q549.495 1513.92 549.495 1522.67 Q549.495 1531.4 546.417 1536.01 Q543.361 1540.59 537.551 1540.59 Q531.741 1540.59 528.662 1536.01 Q525.607 1531.4 525.607 1522.67 Q525.607 1513.92 528.662 1509.34 Q531.741 1504.73 537.551 1504.73 Z\" fill=\"#000000\" fill-rule=\"evenodd\" fill-opacity=\"1\" /><path clip-path=\"url(#clip250)\" d=\"M 0 0 M554.565 1534.04 L559.449 1534.04 L559.449 1539.92 L554.565 1539.92 L554.565 1534.04 Z\" fill=\"#000000\" fill-rule=\"evenodd\" fill-opacity=\"1\" /><path clip-path=\"url(#clip250)\" d=\"M 0 0 M574.518 1508.44 Q570.907 1508.44 569.079 1512 Q567.273 1515.55 567.273 1522.67 Q567.273 1529.78 569.079 1533.35 Q570.907 1536.89 574.518 1536.89 Q578.153 1536.89 579.958 1533.35 Q581.787 1529.78 581.787 1522.67 Q581.787 1515.55 579.958 1512 Q578.153 1508.44 574.518 1508.44 M574.518 1504.73 Q580.329 1504.73 583.384 1509.34 Q586.463 1513.92 586.463 1522.67 Q586.463 1531.4 583.384 1536.01 Q580.329 1540.59 574.518 1540.59 Q568.708 1540.59 565.63 1536.01 Q562.574 1531.4 562.574 1522.67 Q562.574 1513.92 565.63 1509.34 Q568.708 1504.73 574.518 1504.73 Z\" fill=\"#000000\" fill-rule=\"evenodd\" fill-opacity=\"1\" /><path clip-path=\"url(#clip250)\" d=\"M 0 0 M601.532 1508.44 Q597.921 1508.44 596.092 1512 Q594.287 1515.55 594.287 1522.67 Q594.287 1529.78 596.092 1533.35 Q597.921 1536.89 601.532 1536.89 Q605.166 1536.89 606.972 1533.35 Q608.801 1529.78 608.801 1522.67 Q608.801 1515.55 606.972 1512 Q605.166 1508.44 601.532 1508.44 M601.532 1504.73 Q607.342 1504.73 610.398 1509.34 Q613.477 1513.92 613.477 1522.67 Q613.477 1531.4 610.398 1536.01 Q607.342 1540.59 601.532 1540.59 Q595.722 1540.59 592.643 1536.01 Q589.588 1531.4 589.588 1522.67 Q589.588 1513.92 592.643 1509.34 Q595.722 1504.73 601.532 1504.73 Z\" fill=\"#000000\" fill-rule=\"evenodd\" fill-opacity=\"1\" /><path clip-path=\"url(#clip250)\" d=\"M 0 0 M619.356 1535.98 L626.995 1535.98 L626.995 1509.62 L618.685 1511.29 L618.685 1507.03 L626.949 1505.36 L631.625 1505.36 L631.625 1535.98 L639.263 1535.98 L639.263 1539.92 L619.356 1539.92 L619.356 1535.98 Z\" fill=\"#000000\" fill-rule=\"evenodd\" fill-opacity=\"1\" /><path clip-path=\"url(#clip250)\" d=\"M 0 0 M1016.67 1508.44 Q1013.06 1508.44 1011.23 1512 Q1009.42 1515.55 1009.42 1522.67 Q1009.42 1529.78 1011.23 1533.35 Q1013.06 1536.89 1016.67 1536.89 Q1020.3 1536.89 1022.11 1533.35 Q1023.94 1529.78 1023.94 1522.67 Q1023.94 1515.55 1022.11 1512 Q1020.3 1508.44 1016.67 1508.44 M1016.67 1504.73 Q1022.48 1504.73 1025.53 1509.34 Q1028.61 1513.92 1028.61 1522.67 Q1028.61 1531.4 1025.53 1536.01 Q1022.48 1540.59 1016.67 1540.59 Q1010.86 1540.59 1007.78 1536.01 Q1004.72 1531.4 1004.72 1522.67 Q1004.72 1513.92 1007.78 1509.34 Q1010.86 1504.73 1016.67 1504.73 Z\" fill=\"#000000\" fill-rule=\"evenodd\" fill-opacity=\"1\" /><path clip-path=\"url(#clip250)\" d=\"M 0 0 M1033.68 1534.04 L1038.57 1534.04 L1038.57 1539.92 L1033.68 1539.92 L1033.68 1534.04 Z\" fill=\"#000000\" fill-rule=\"evenodd\" fill-opacity=\"1\" /><path clip-path=\"url(#clip250)\" d=\"M 0 0 M1053.63 1508.44 Q1050.02 1508.44 1048.19 1512 Q1046.39 1515.55 1046.39 1522.67 Q1046.39 1529.78 1048.19 1533.35 Q1050.02 1536.89 1053.63 1536.89 Q1057.27 1536.89 1059.07 1533.35 Q1060.9 1529.78 1060.9 1522.67 Q1060.9 1515.55 1059.07 1512 Q1057.27 1508.44 1053.63 1508.44 M1053.63 1504.73 Q1059.44 1504.73 1062.5 1509.34 Q1065.58 1513.92 1065.58 1522.67 Q1065.58 1531.4 1062.5 1536.01 Q1059.44 1540.59 1053.63 1540.59 Q1047.82 1540.59 1044.75 1536.01 Q1041.69 1531.4 1041.69 1522.67 Q1041.69 1513.92 1044.75 1509.34 Q1047.82 1504.73 1053.63 1504.73 Z\" fill=\"#000000\" fill-rule=\"evenodd\" fill-opacity=\"1\" /><path clip-path=\"url(#clip250)\" d=\"M 0 0 M1080.65 1508.44 Q1077.04 1508.44 1075.21 1512 Q1073.4 1515.55 1073.4 1522.67 Q1073.4 1529.78 1075.21 1533.35 Q1077.04 1536.89 1080.65 1536.89 Q1084.28 1536.89 1086.09 1533.35 Q1087.92 1529.78 1087.92 1522.67 Q1087.92 1515.55 1086.09 1512 Q1084.28 1508.44 1080.65 1508.44 M1080.65 1504.73 Q1086.46 1504.73 1089.51 1509.34 Q1092.59 1513.92 1092.59 1522.67 Q1092.59 1531.4 1089.51 1536.01 Q1086.46 1540.59 1080.65 1540.59 Q1074.84 1540.59 1071.76 1536.01 Q1068.7 1531.4 1068.7 1522.67 Q1068.7 1513.92 1071.76 1509.34 Q1074.84 1504.73 1080.65 1504.73 Z\" fill=\"#000000\" fill-rule=\"evenodd\" fill-opacity=\"1\" /><path clip-path=\"url(#clip250)\" d=\"M 0 0 M1107.66 1508.44 Q1104.05 1508.44 1102.22 1512 Q1100.42 1515.55 1100.42 1522.67 Q1100.42 1529.78 1102.22 1533.35 Q1104.05 1536.89 1107.66 1536.89 Q1111.3 1536.89 1113.1 1533.35 Q1114.93 1529.78 1114.93 1522.67 Q1114.93 1515.55 1113.1 1512 Q1111.3 1508.44 1107.66 1508.44 M1107.66 1504.73 Q1113.47 1504.73 1116.53 1509.34 Q1119.61 1513.92 1119.61 1522.67 Q1119.61 1531.4 1116.53 1536.01 Q1113.47 1540.59 1107.66 1540.59 Q1101.85 1540.59 1098.77 1536.01 Q1095.72 1531.4 1095.72 1522.67 Q1095.72 1513.92 1098.77 1509.34 Q1101.85 1504.73 1107.66 1504.73 Z\" fill=\"#000000\" fill-rule=\"evenodd\" fill-opacity=\"1\" /><path clip-path=\"url(#clip250)\" d=\"M 0 0 M1504.81 1508.44 Q1501.2 1508.44 1499.37 1512 Q1497.57 1515.55 1497.57 1522.67 Q1497.57 1529.78 1499.37 1533.35 Q1501.2 1536.89 1504.81 1536.89 Q1508.45 1536.89 1510.25 1533.35 Q1512.08 1529.78 1512.08 1522.67 Q1512.08 1515.55 1510.25 1512 Q1508.45 1508.44 1504.81 1508.44 M1504.81 1504.73 Q1510.62 1504.73 1513.68 1509.34 Q1516.76 1513.92 1516.76 1522.67 Q1516.76 1531.4 1513.68 1536.01 Q1510.62 1540.59 1504.81 1540.59 Q1499 1540.59 1495.92 1536.01 Q1492.87 1531.4 1492.87 1522.67 Q1492.87 1513.92 1495.92 1509.34 Q1499 1504.73 1504.81 1504.73 Z\" fill=\"#000000\" fill-rule=\"evenodd\" fill-opacity=\"1\" /><path clip-path=\"url(#clip250)\" d=\"M 0 0 M1521.83 1534.04 L1526.71 1534.04 L1526.71 1539.92 L1521.83 1539.92 L1521.83 1534.04 Z\" fill=\"#000000\" fill-rule=\"evenodd\" fill-opacity=\"1\" /><path clip-path=\"url(#clip250)\" d=\"M 0 0 M1541.78 1508.44 Q1538.17 1508.44 1536.34 1512 Q1534.53 1515.55 1534.53 1522.67 Q1534.53 1529.78 1536.34 1533.35 Q1538.17 1536.89 1541.78 1536.89 Q1545.41 1536.89 1547.22 1533.35 Q1549.05 1529.78 1549.05 1522.67 Q1549.05 1515.55 1547.22 1512 Q1545.41 1508.44 1541.78 1508.44 M1541.78 1504.73 Q1547.59 1504.73 1550.64 1509.34 Q1553.72 1513.92 1553.72 1522.67 Q1553.72 1531.4 1550.64 1536.01 Q1547.59 1540.59 1541.78 1540.59 Q1535.97 1540.59 1532.89 1536.01 Q1529.83 1531.4 1529.83 1522.67 Q1529.83 1513.92 1532.89 1509.34 Q1535.97 1504.73 1541.78 1504.73 Z\" fill=\"#000000\" fill-rule=\"evenodd\" fill-opacity=\"1\" /><path clip-path=\"url(#clip250)\" d=\"M 0 0 M1568.79 1508.44 Q1565.18 1508.44 1563.35 1512 Q1561.55 1515.55 1561.55 1522.67 Q1561.55 1529.78 1563.35 1533.35 Q1565.18 1536.89 1568.79 1536.89 Q1572.43 1536.89 1574.23 1533.35 Q1576.06 1529.78 1576.06 1522.67 Q1576.06 1515.55 1574.23 1512 Q1572.43 1508.44 1568.79 1508.44 M1568.79 1504.73 Q1574.6 1504.73 1577.66 1509.34 Q1580.74 1513.92 1580.74 1522.67 Q1580.74 1531.4 1577.66 1536.01 Q1574.6 1540.59 1568.79 1540.59 Q1562.98 1540.59 1559.9 1536.01 Q1556.85 1531.4 1556.85 1522.67 Q1556.85 1513.92 1559.9 1509.34 Q1562.98 1504.73 1568.79 1504.73 Z\" fill=\"#000000\" fill-rule=\"evenodd\" fill-opacity=\"1\" /><path clip-path=\"url(#clip250)\" d=\"M 0 0 M1586.62 1535.98 L1594.26 1535.98 L1594.26 1509.62 L1585.95 1511.29 L1585.95 1507.03 L1594.21 1505.36 L1598.88 1505.36 L1598.88 1535.98 L1606.52 1535.98 L1606.52 1539.92 L1586.62 1539.92 L1586.62 1535.98 Z\" fill=\"#000000\" fill-rule=\"evenodd\" fill-opacity=\"1\" /><path clip-path=\"url(#clip250)\" d=\"M 0 0 M1992.53 1508.44 Q1988.92 1508.44 1987.09 1512 Q1985.28 1515.55 1985.28 1522.67 Q1985.28 1529.78 1987.09 1533.35 Q1988.92 1536.89 1992.53 1536.89 Q1996.16 1536.89 1997.97 1533.35 Q1999.8 1529.78 1999.8 1522.67 Q1999.8 1515.55 1997.97 1512 Q1996.16 1508.44 1992.53 1508.44 M1992.53 1504.73 Q1998.34 1504.73 2001.39 1509.34 Q2004.47 1513.92 2004.47 1522.67 Q2004.47 1531.4 2001.39 1536.01 Q1998.34 1540.59 1992.53 1540.59 Q1986.72 1540.59 1983.64 1536.01 Q1980.58 1531.4 1980.58 1522.67 Q1980.58 1513.92 1983.64 1509.34 Q1986.72 1504.73 1992.53 1504.73 Z\" fill=\"#000000\" fill-rule=\"evenodd\" fill-opacity=\"1\" /><path clip-path=\"url(#clip250)\" d=\"M 0 0 M2009.54 1534.04 L2014.43 1534.04 L2014.43 1539.92 L2009.54 1539.92 L2009.54 1534.04 Z\" fill=\"#000000\" fill-rule=\"evenodd\" fill-opacity=\"1\" /><path clip-path=\"url(#clip250)\" d=\"M 0 0 M2029.49 1508.44 Q2025.88 1508.44 2024.05 1512 Q2022.25 1515.55 2022.25 1522.67 Q2022.25 1529.78 2024.05 1533.35 Q2025.88 1536.89 2029.49 1536.89 Q2033.13 1536.89 2034.93 1533.35 Q2036.76 1529.78 2036.76 1522.67 Q2036.76 1515.55 2034.93 1512 Q2033.13 1508.44 2029.49 1508.44 M2029.49 1504.73 Q2035.3 1504.73 2038.36 1509.34 Q2041.44 1513.92 2041.44 1522.67 Q2041.44 1531.4 2038.36 1536.01 Q2035.3 1540.59 2029.49 1540.59 Q2023.68 1540.59 2020.61 1536.01 Q2017.55 1531.4 2017.55 1522.67 Q2017.55 1513.92 2020.61 1509.34 Q2023.68 1504.73 2029.49 1504.73 Z\" fill=\"#000000\" fill-rule=\"evenodd\" fill-opacity=\"1\" /><path clip-path=\"url(#clip250)\" d=\"M 0 0 M2056.51 1508.44 Q2052.9 1508.44 2051.07 1512 Q2049.26 1515.55 2049.26 1522.67 Q2049.26 1529.78 2051.07 1533.35 Q2052.9 1536.89 2056.51 1536.89 Q2060.14 1536.89 2061.95 1533.35 Q2063.78 1529.78 2063.78 1522.67 Q2063.78 1515.55 2061.95 1512 Q2060.14 1508.44 2056.51 1508.44 M2056.51 1504.73 Q2062.32 1504.73 2065.37 1509.34 Q2068.45 1513.92 2068.45 1522.67 Q2068.45 1531.4 2065.37 1536.01 Q2062.32 1540.59 2056.51 1540.59 Q2050.7 1540.59 2047.62 1536.01 Q2044.56 1531.4 2044.56 1522.67 Q2044.56 1513.92 2047.62 1509.34 Q2050.7 1504.73 2056.51 1504.73 Z\" fill=\"#000000\" fill-rule=\"evenodd\" fill-opacity=\"1\" /><path clip-path=\"url(#clip250)\" d=\"M 0 0 M2077.55 1535.98 L2093.87 1535.98 L2093.87 1539.92 L2071.92 1539.92 L2071.92 1535.98 Q2074.59 1533.23 2079.17 1528.6 Q2083.78 1523.95 2084.96 1522.61 Q2087.2 1520.08 2088.08 1518.35 Q2088.99 1516.59 2088.99 1514.9 Q2088.99 1512.14 2087.04 1510.41 Q2085.12 1508.67 2082.02 1508.67 Q2079.82 1508.67 2077.36 1509.43 Q2074.93 1510.2 2072.16 1511.75 L2072.16 1507.03 Q2074.98 1505.89 2077.43 1505.31 Q2079.89 1504.73 2081.92 1504.73 Q2087.3 1504.73 2090.49 1507.42 Q2093.68 1510.11 2093.68 1514.6 Q2093.68 1516.73 2092.87 1518.65 Q2092.09 1520.54 2089.98 1523.14 Q2089.4 1523.81 2086.3 1527.03 Q2083.2 1530.22 2077.55 1535.98 Z\" fill=\"#000000\" fill-rule=\"evenodd\" fill-opacity=\"1\" /><path clip-path=\"url(#clip250)\" d=\"M 0 0 M125.654 1431.51 Q122.043 1431.51 120.214 1435.08 Q118.408 1438.62 118.408 1445.75 Q118.408 1452.86 120.214 1456.42 Q122.043 1459.96 125.654 1459.96 Q129.288 1459.96 131.094 1456.42 Q132.922 1452.86 132.922 1445.75 Q132.922 1438.62 131.094 1435.08 Q129.288 1431.51 125.654 1431.51 M125.654 1427.81 Q131.464 1427.81 134.52 1432.42 Q137.598 1437 137.598 1445.75 Q137.598 1454.48 134.52 1459.08 Q131.464 1463.67 125.654 1463.67 Q119.844 1463.67 116.765 1459.08 Q113.709 1454.48 113.709 1445.75 Q113.709 1437 116.765 1432.42 Q119.844 1427.81 125.654 1427.81 Z\" fill=\"#000000\" fill-rule=\"evenodd\" fill-opacity=\"1\" /><path clip-path=\"url(#clip250)\" d=\"M 0 0 M89.6818 1036.03 L108.038 1036.03 L108.038 1039.96 L93.9642 1039.96 L93.9642 1048.43 Q94.9827 1048.09 96.0012 1047.92 Q97.0197 1047.74 98.0382 1047.74 Q103.825 1047.74 107.205 1050.91 Q110.584 1054.08 110.584 1059.5 Q110.584 1065.08 107.112 1068.18 Q103.64 1071.26 97.3206 1071.26 Q95.1447 1071.26 92.8762 1070.89 Q90.6309 1070.52 88.2235 1069.78 L88.2235 1065.08 Q90.3068 1066.21 92.529 1066.77 Q94.7512 1067.32 97.2281 1067.32 Q101.233 1067.32 103.571 1065.22 Q105.909 1063.11 105.909 1059.5 Q105.909 1055.89 103.571 1053.78 Q101.233 1051.67 97.2281 1051.67 Q95.3531 1051.67 93.4781 1052.09 Q91.6262 1052.51 89.6818 1053.39 L89.6818 1036.03 Z\" fill=\"#000000\" fill-rule=\"evenodd\" fill-opacity=\"1\" /><path clip-path=\"url(#clip250)\" d=\"M 0 0 M125.654 1039.1 Q122.043 1039.1 120.214 1042.67 Q118.408 1046.21 118.408 1053.34 Q118.408 1060.45 120.214 1064.01 Q122.043 1067.55 125.654 1067.55 Q129.288 1067.55 131.094 1064.01 Q132.922 1060.45 132.922 1053.34 Q132.922 1046.21 131.094 1042.67 Q129.288 1039.1 125.654 1039.1 M125.654 1035.4 Q131.464 1035.4 134.52 1040.01 Q137.598 1044.59 137.598 1053.34 Q137.598 1062.07 134.52 1066.67 Q131.464 1071.26 125.654 1071.26 Q119.844 1071.26 116.765 1066.67 Q113.709 1062.07 113.709 1053.34 Q113.709 1044.59 116.765 1040.01 Q119.844 1035.4 125.654 1035.4 Z\" fill=\"#000000\" fill-rule=\"evenodd\" fill-opacity=\"1\" /><path clip-path=\"url(#clip250)\" d=\"M 0 0 M63.6634 674.24 L71.3023 674.24 L71.3023 647.874 L62.9921 649.541 L62.9921 645.282 L71.256 643.615 L75.9319 643.615 L75.9319 674.24 L83.5707 674.24 L83.5707 678.175 L63.6634 678.175 L63.6634 674.24 Z\" fill=\"#000000\" fill-rule=\"evenodd\" fill-opacity=\"1\" /><path clip-path=\"url(#clip250)\" d=\"M 0 0 M98.6401 646.694 Q95.029 646.694 93.2003 650.259 Q91.3948 653.8 91.3948 660.93 Q91.3948 668.036 93.2003 671.601 Q95.029 675.143 98.6401 675.143 Q102.274 675.143 104.08 671.601 Q105.909 668.036 105.909 660.93 Q105.909 653.8 104.08 650.259 Q102.274 646.694 98.6401 646.694 M98.6401 642.99 Q104.45 642.99 107.506 647.597 Q110.584 652.18 110.584 660.93 Q110.584 669.657 107.506 674.263 Q104.45 678.847 98.6401 678.847 Q92.8299 678.847 89.7512 674.263 Q86.6957 669.657 86.6957 660.93 Q86.6957 652.18 89.7512 647.597 Q92.8299 642.99 98.6401 642.99 Z\" fill=\"#000000\" fill-rule=\"evenodd\" fill-opacity=\"1\" /><path clip-path=\"url(#clip250)\" d=\"M 0 0 M125.654 646.694 Q122.043 646.694 120.214 650.259 Q118.408 653.8 118.408 660.93 Q118.408 668.036 120.214 671.601 Q122.043 675.143 125.654 675.143 Q129.288 675.143 131.094 671.601 Q132.922 668.036 132.922 660.93 Q132.922 653.8 131.094 650.259 Q129.288 646.694 125.654 646.694 M125.654 642.99 Q131.464 642.99 134.52 647.597 Q137.598 652.18 137.598 660.93 Q137.598 669.657 134.52 674.263 Q131.464 678.847 125.654 678.847 Q119.844 678.847 116.765 674.263 Q113.709 669.657 113.709 660.93 Q113.709 652.18 116.765 647.597 Q119.844 642.99 125.654 642.99 Z\" fill=\"#000000\" fill-rule=\"evenodd\" fill-opacity=\"1\" /><path clip-path=\"url(#clip250)\" d=\"M 0 0 M64.6588 281.83 L72.2976 281.83 L72.2976 255.464 L63.9875 257.131 L63.9875 252.872 L72.2513 251.205 L76.9272 251.205 L76.9272 281.83 L84.5661 281.83 L84.5661 285.765 L64.6588 285.765 L64.6588 281.83 Z\" fill=\"#000000\" fill-rule=\"evenodd\" fill-opacity=\"1\" /><path clip-path=\"url(#clip250)\" d=\"M 0 0 M89.6818 251.205 L108.038 251.205 L108.038 255.14 L93.9642 255.14 L93.9642 263.612 Q94.9827 263.265 96.0012 263.103 Q97.0197 262.918 98.0382 262.918 Q103.825 262.918 107.205 266.089 Q110.584 269.26 110.584 274.677 Q110.584 280.256 107.112 283.358 Q103.64 286.436 97.3206 286.436 Q95.1447 286.436 92.8762 286.066 Q90.6309 285.696 88.2235 284.955 L88.2235 280.256 Q90.3068 281.39 92.529 281.946 Q94.7512 282.501 97.2281 282.501 Q101.233 282.501 103.571 280.395 Q105.909 278.288 105.909 274.677 Q105.909 271.066 103.571 268.96 Q101.233 266.853 97.2281 266.853 Q95.3531 266.853 93.4781 267.27 Q91.6262 267.686 89.6818 268.566 L89.6818 251.205 Z\" fill=\"#000000\" fill-rule=\"evenodd\" fill-opacity=\"1\" /><path clip-path=\"url(#clip250)\" d=\"M 0 0 M125.654 254.284 Q122.043 254.284 120.214 257.848 Q118.408 261.39 118.408 268.52 Q118.408 275.626 120.214 279.191 Q122.043 282.733 125.654 282.733 Q129.288 282.733 131.094 279.191 Q132.922 275.626 132.922 268.52 Q132.922 261.39 131.094 257.848 Q129.288 254.284 125.654 254.284 M125.654 250.58 Q131.464 250.58 134.52 255.186 Q137.598 259.77 137.598 268.52 Q137.598 277.247 134.52 281.853 Q131.464 286.436 125.654 286.436 Q119.844 286.436 116.765 281.853 Q113.709 277.247 113.709 268.52 Q113.709 259.77 116.765 255.186 Q119.844 250.58 125.654 250.58 Z\" fill=\"#000000\" fill-rule=\"evenodd\" fill-opacity=\"1\" /><path clip-path=\"url(#clip252)\" d=\"\n",
       "M282.116 1430.02 L282.116 1445.72 L379.622 1445.72 L379.622 1430.02 L282.116 1430.02 L282.116 1430.02  Z\n",
       "  \" fill=\"#009af9\" fill-rule=\"evenodd\" fill-opacity=\"1\"/>\n",
       "<polyline clip-path=\"url(#clip252)\" style=\"stroke:#000000; stroke-width:4; stroke-opacity:1; fill:none\" points=\"\n",
       "  282.116,1430.02 282.116,1445.72 379.622,1445.72 379.622,1430.02 282.116,1430.02 \n",
       "  \"/>\n",
       "<path clip-path=\"url(#clip252)\" d=\"\n",
       "M379.622 1422.17 L379.622 1445.72 L477.128 1445.72 L477.128 1422.17 L379.622 1422.17 L379.622 1422.17  Z\n",
       "  \" fill=\"#009af9\" fill-rule=\"evenodd\" fill-opacity=\"1\"/>\n",
       "<polyline clip-path=\"url(#clip252)\" style=\"stroke:#000000; stroke-width:4; stroke-opacity:1; fill:none\" points=\"\n",
       "  379.622,1422.17 379.622,1445.72 477.128,1445.72 477.128,1422.17 379.622,1422.17 \n",
       "  \"/>\n",
       "<path clip-path=\"url(#clip252)\" d=\"\n",
       "M477.128 1375.08 L477.128 1445.72 L574.634 1445.72 L574.634 1375.08 L477.128 1375.08 L477.128 1375.08  Z\n",
       "  \" fill=\"#009af9\" fill-rule=\"evenodd\" fill-opacity=\"1\"/>\n",
       "<polyline clip-path=\"url(#clip252)\" style=\"stroke:#000000; stroke-width:4; stroke-opacity:1; fill:none\" points=\"\n",
       "  477.128,1375.08 477.128,1445.72 574.634,1445.72 574.634,1375.08 477.128,1375.08 \n",
       "  \"/>\n",
       "<path clip-path=\"url(#clip252)\" d=\"\n",
       "M574.634 1249.51 L574.634 1445.72 L672.14 1445.72 L672.14 1249.51 L574.634 1249.51 L574.634 1249.51  Z\n",
       "  \" fill=\"#009af9\" fill-rule=\"evenodd\" fill-opacity=\"1\"/>\n",
       "<polyline clip-path=\"url(#clip252)\" style=\"stroke:#000000; stroke-width:4; stroke-opacity:1; fill:none\" points=\"\n",
       "  574.634,1249.51 574.634,1445.72 672.14,1445.72 672.14,1249.51 574.634,1249.51 \n",
       "  \"/>\n",
       "<path clip-path=\"url(#clip252)\" d=\"\n",
       "M672.14 888.493 L672.14 1445.72 L769.646 1445.72 L769.646 888.493 L672.14 888.493 L672.14 888.493  Z\n",
       "  \" fill=\"#009af9\" fill-rule=\"evenodd\" fill-opacity=\"1\"/>\n",
       "<polyline clip-path=\"url(#clip252)\" style=\"stroke:#000000; stroke-width:4; stroke-opacity:1; fill:none\" points=\"\n",
       "  672.14,888.493 672.14,1445.72 769.646,1445.72 769.646,888.493 672.14,888.493 \n",
       "  \"/>\n",
       "<path clip-path=\"url(#clip252)\" d=\"\n",
       "M769.646 684.44 L769.646 1445.72 L867.153 1445.72 L867.153 684.44 L769.646 684.44 L769.646 684.44  Z\n",
       "  \" fill=\"#009af9\" fill-rule=\"evenodd\" fill-opacity=\"1\"/>\n",
       "<polyline clip-path=\"url(#clip252)\" style=\"stroke:#000000; stroke-width:4; stroke-opacity:1; fill:none\" points=\"\n",
       "  769.646,684.44 769.646,1445.72 867.153,1445.72 867.153,684.44 769.646,684.44 \n",
       "  \"/>\n",
       "<path clip-path=\"url(#clip252)\" d=\"\n",
       "M867.153 323.422 L867.153 1445.72 L964.659 1445.72 L964.659 323.422 L867.153 323.422 L867.153 323.422  Z\n",
       "  \" fill=\"#009af9\" fill-rule=\"evenodd\" fill-opacity=\"1\"/>\n",
       "<polyline clip-path=\"url(#clip252)\" style=\"stroke:#000000; stroke-width:4; stroke-opacity:1; fill:none\" points=\"\n",
       "  867.153,323.422 867.153,1445.72 964.659,1445.72 964.659,323.422 867.153,323.422 \n",
       "  \"/>\n",
       "<path clip-path=\"url(#clip252)\" d=\"\n",
       "M964.659 292.03 L964.659 1445.72 L1062.16 1445.72 L1062.16 292.03 L964.659 292.03 L964.659 292.03  Z\n",
       "  \" fill=\"#009af9\" fill-rule=\"evenodd\" fill-opacity=\"1\"/>\n",
       "<polyline clip-path=\"url(#clip252)\" style=\"stroke:#000000; stroke-width:4; stroke-opacity:1; fill:none\" points=\"\n",
       "  964.659,292.03 964.659,1445.72 1062.16,1445.72 1062.16,292.03 964.659,292.03 \n",
       "  \"/>\n",
       "<path clip-path=\"url(#clip252)\" d=\"\n",
       "M1062.16 87.9763 L1062.16 1445.72 L1159.67 1445.72 L1159.67 87.9763 L1062.16 87.9763 L1062.16 87.9763  Z\n",
       "  \" fill=\"#009af9\" fill-rule=\"evenodd\" fill-opacity=\"1\"/>\n",
       "<polyline clip-path=\"url(#clip252)\" style=\"stroke:#000000; stroke-width:4; stroke-opacity:1; fill:none\" points=\"\n",
       "  1062.16,87.9763 1062.16,1445.72 1159.67,1445.72 1159.67,87.9763 1062.16,87.9763 \n",
       "  \"/>\n",
       "<path clip-path=\"url(#clip252)\" d=\"\n",
       "M1159.67 480.387 L1159.67 1445.72 L1257.18 1445.72 L1257.18 480.387 L1159.67 480.387 L1159.67 480.387  Z\n",
       "  \" fill=\"#009af9\" fill-rule=\"evenodd\" fill-opacity=\"1\"/>\n",
       "<polyline clip-path=\"url(#clip252)\" style=\"stroke:#000000; stroke-width:4; stroke-opacity:1; fill:none\" points=\"\n",
       "  1159.67,480.387 1159.67,1445.72 1257.18,1445.72 1257.18,480.387 1159.67,480.387 \n",
       "  \"/>\n",
       "<path clip-path=\"url(#clip252)\" d=\"\n",
       "M1257.18 817.859 L1257.18 1445.72 L1354.68 1445.72 L1354.68 817.859 L1257.18 817.859 L1257.18 817.859  Z\n",
       "  \" fill=\"#009af9\" fill-rule=\"evenodd\" fill-opacity=\"1\"/>\n",
       "<polyline clip-path=\"url(#clip252)\" style=\"stroke:#000000; stroke-width:4; stroke-opacity:1; fill:none\" points=\"\n",
       "  1257.18,817.859 1257.18,1445.72 1354.68,1445.72 1354.68,817.859 1257.18,817.859 \n",
       "  \"/>\n",
       "<path clip-path=\"url(#clip252)\" d=\"\n",
       "M1354.68 1045.46 L1354.68 1445.72 L1452.19 1445.72 L1452.19 1045.46 L1354.68 1045.46 L1354.68 1045.46  Z\n",
       "  \" fill=\"#009af9\" fill-rule=\"evenodd\" fill-opacity=\"1\"/>\n",
       "<polyline clip-path=\"url(#clip252)\" style=\"stroke:#000000; stroke-width:4; stroke-opacity:1; fill:none\" points=\"\n",
       "  1354.68,1045.46 1354.68,1445.72 1452.19,1445.72 1452.19,1045.46 1354.68,1045.46 \n",
       "  \"/>\n",
       "<path clip-path=\"url(#clip252)\" d=\"\n",
       "M1452.19 1163.18 L1452.19 1445.72 L1549.7 1445.72 L1549.7 1163.18 L1452.19 1163.18 L1452.19 1163.18  Z\n",
       "  \" fill=\"#009af9\" fill-rule=\"evenodd\" fill-opacity=\"1\"/>\n",
       "<polyline clip-path=\"url(#clip252)\" style=\"stroke:#000000; stroke-width:4; stroke-opacity:1; fill:none\" points=\"\n",
       "  1452.19,1163.18 1452.19,1445.72 1549.7,1445.72 1549.7,1163.18 1452.19,1163.18 \n",
       "  \"/>\n",
       "<path clip-path=\"url(#clip252)\" d=\"\n",
       "M1549.7 1296.6 L1549.7 1445.72 L1647.2 1445.72 L1647.2 1296.6 L1549.7 1296.6 L1549.7 1296.6  Z\n",
       "  \" fill=\"#009af9\" fill-rule=\"evenodd\" fill-opacity=\"1\"/>\n",
       "<polyline clip-path=\"url(#clip252)\" style=\"stroke:#000000; stroke-width:4; stroke-opacity:1; fill:none\" points=\"\n",
       "  1549.7,1296.6 1549.7,1445.72 1647.2,1445.72 1647.2,1296.6 1549.7,1296.6 \n",
       "  \"/>\n",
       "<path clip-path=\"url(#clip252)\" d=\"\n",
       "M1647.2 1359.39 L1647.2 1445.72 L1744.71 1445.72 L1744.71 1359.39 L1647.2 1359.39 L1647.2 1359.39  Z\n",
       "  \" fill=\"#009af9\" fill-rule=\"evenodd\" fill-opacity=\"1\"/>\n",
       "<polyline clip-path=\"url(#clip252)\" style=\"stroke:#000000; stroke-width:4; stroke-opacity:1; fill:none\" points=\"\n",
       "  1647.2,1359.39 1647.2,1445.72 1744.71,1445.72 1744.71,1359.39 1647.2,1359.39 \n",
       "  \"/>\n",
       "<path clip-path=\"url(#clip252)\" d=\"\n",
       "M1744.71 1414.32 L1744.71 1445.72 L1842.21 1445.72 L1842.21 1414.32 L1744.71 1414.32 L1744.71 1414.32  Z\n",
       "  \" fill=\"#009af9\" fill-rule=\"evenodd\" fill-opacity=\"1\"/>\n",
       "<polyline clip-path=\"url(#clip252)\" style=\"stroke:#000000; stroke-width:4; stroke-opacity:1; fill:none\" points=\"\n",
       "  1744.71,1414.32 1744.71,1445.72 1842.21,1445.72 1842.21,1414.32 1744.71,1414.32 \n",
       "  \"/>\n",
       "<path clip-path=\"url(#clip252)\" d=\"\n",
       "M1842.21 1422.17 L1842.21 1445.72 L1939.72 1445.72 L1939.72 1422.17 L1842.21 1422.17 L1842.21 1422.17  Z\n",
       "  \" fill=\"#009af9\" fill-rule=\"evenodd\" fill-opacity=\"1\"/>\n",
       "<polyline clip-path=\"url(#clip252)\" style=\"stroke:#000000; stroke-width:4; stroke-opacity:1; fill:none\" points=\"\n",
       "  1842.21,1422.17 1842.21,1445.72 1939.72,1445.72 1939.72,1422.17 1842.21,1422.17 \n",
       "  \"/>\n",
       "<path clip-path=\"url(#clip252)\" d=\"\n",
       "M1939.72 1445.72 L1939.72 1445.72 L2037.23 1445.72 L2037.23 1445.72 L1939.72 1445.72 L1939.72 1445.72  Z\n",
       "  \" fill=\"#009af9\" fill-rule=\"evenodd\" fill-opacity=\"1\"/>\n",
       "<polyline clip-path=\"url(#clip252)\" style=\"stroke:#000000; stroke-width:4; stroke-opacity:1; fill:none\" points=\"\n",
       "  1939.72,1445.72 1939.72,1445.72 2037.23,1445.72 1939.72,1445.72 \n",
       "  \"/>\n",
       "<path clip-path=\"url(#clip252)\" d=\"\n",
       "M2037.23 1430.02 L2037.23 1445.72 L2134.73 1445.72 L2134.73 1430.02 L2037.23 1430.02 L2037.23 1430.02  Z\n",
       "  \" fill=\"#009af9\" fill-rule=\"evenodd\" fill-opacity=\"1\"/>\n",
       "<polyline clip-path=\"url(#clip252)\" style=\"stroke:#000000; stroke-width:4; stroke-opacity:1; fill:none\" points=\"\n",
       "  2037.23,1430.02 2037.23,1445.72 2134.73,1445.72 2134.73,1430.02 2037.23,1430.02 \n",
       "  \"/>\n",
       "<path clip-path=\"url(#clip252)\" d=\"\n",
       "M2134.73 1437.87 L2134.73 1445.72 L2232.24 1445.72 L2232.24 1437.87 L2134.73 1437.87 L2134.73 1437.87  Z\n",
       "  \" fill=\"#009af9\" fill-rule=\"evenodd\" fill-opacity=\"1\"/>\n",
       "<polyline clip-path=\"url(#clip252)\" style=\"stroke:#000000; stroke-width:4; stroke-opacity:1; fill:none\" points=\"\n",
       "  2134.73,1437.87 2134.73,1445.72 2232.24,1445.72 2232.24,1437.87 2134.73,1437.87 \n",
       "  \"/>\n",
       "<polyline clip-path=\"url(#clip252)\" style=\"stroke:#000000; stroke-width:8; stroke-opacity:1; fill:none\" points=\"\n",
       "  1079.58,2925.65 1079.58,-1391.96 \n",
       "  \"/>\n",
       "<path clip-path=\"url(#clip250)\" d=\"\n",
       "M1934.66 276.658 L2279.72 276.658 L2279.72 95.2176 L1934.66 95.2176  Z\n",
       "  \" fill=\"#ffffff\" fill-rule=\"evenodd\" fill-opacity=\"1\"/>\n",
       "<polyline clip-path=\"url(#clip250)\" style=\"stroke:#000000; stroke-width:4; stroke-opacity:1; fill:none\" points=\"\n",
       "  1934.66,276.658 2279.72,276.658 2279.72,95.2176 1934.66,95.2176 1934.66,276.658 \n",
       "  \"/>\n",
       "<path clip-path=\"url(#clip250)\" d=\"\n",
       "M1959 179.89 L2105.08 179.89 L2105.08 131.506 L1959 131.506 L1959 179.89  Z\n",
       "  \" fill=\"#009af9\" fill-rule=\"evenodd\" fill-opacity=\"1\"/>\n",
       "<polyline clip-path=\"url(#clip250)\" style=\"stroke:#000000; stroke-width:4; stroke-opacity:1; fill:none\" points=\"\n",
       "  1959,179.89 2105.08,179.89 2105.08,131.506 1959,131.506 1959,179.89 \n",
       "  \"/>\n",
       "<path clip-path=\"url(#clip250)\" d=\"M 0 0 M2143.27 175.385 Q2141.47 180.015 2139.75 181.427 Q2138.04 182.839 2135.17 182.839 L2131.77 182.839 L2131.77 179.274 L2134.27 179.274 Q2136.03 179.274 2137 178.44 Q2137.97 177.607 2139.15 174.505 L2139.91 172.561 L2129.43 147.052 L2133.94 147.052 L2142.04 167.329 L2150.15 147.052 L2154.66 147.052 L2143.27 175.385 Z\" fill=\"#000000\" fill-rule=\"evenodd\" fill-opacity=\"1\" /><path clip-path=\"url(#clip250)\" d=\"M 0 0 M2160.54 169.042 L2168.18 169.042 L2168.18 142.677 L2159.87 144.343 L2159.87 140.084 L2168.13 138.418 L2172.81 138.418 L2172.81 169.042 L2180.45 169.042 L2180.45 172.978 L2160.54 172.978 L2160.54 169.042 Z\" fill=\"#000000\" fill-rule=\"evenodd\" fill-opacity=\"1\" /><polyline clip-path=\"url(#clip250)\" style=\"stroke:#000000; stroke-width:4; stroke-opacity:1; fill:none\" points=\"\n",
       "  1959,216.178 2105.08,216.178 \n",
       "  \"/>\n",
       "<path clip-path=\"url(#clip250)\" d=\"M 0 0 M2129.43 198.898 L2136.4 198.898 L2145.22 222.416 L2154.08 198.898 L2161.05 198.898 L2161.05 233.458 L2156.49 233.458 L2156.49 203.11 L2147.58 226.814 L2142.88 226.814 L2133.97 203.11 L2133.97 233.458 L2129.43 233.458 L2129.43 198.898 Z\" fill=\"#000000\" fill-rule=\"evenodd\" fill-opacity=\"1\" /><path clip-path=\"url(#clip250)\" d=\"M 0 0 M2165.7 198.898 L2172.67 198.898 L2181.49 222.416 L2190.35 198.898 L2197.32 198.898 L2197.32 233.458 L2192.76 233.458 L2192.76 203.11 L2183.85 226.814 L2179.15 226.814 L2170.24 203.11 L2170.24 233.458 L2165.7 233.458 L2165.7 198.898 Z\" fill=\"#000000\" fill-rule=\"evenodd\" fill-opacity=\"1\" /><path clip-path=\"url(#clip250)\" d=\"M 0 0 M2206.65 202.74 L2206.65 229.615 L2212.3 229.615 Q2219.45 229.615 2222.76 226.374 Q2226.09 223.134 2226.09 216.143 Q2226.09 209.198 2222.76 205.981 Q2219.45 202.74 2212.3 202.74 L2206.65 202.74 M2201.97 198.898 L2211.58 198.898 Q2221.63 198.898 2226.33 203.087 Q2231.02 207.254 2231.02 216.143 Q2231.02 225.078 2226.3 229.268 Q2221.58 233.458 2211.58 233.458 L2201.97 233.458 L2201.97 198.898 Z\" fill=\"#000000\" fill-rule=\"evenodd\" fill-opacity=\"1\" /></svg>\n"
      ]
     },
     "execution_count": 12,
     "metadata": {},
     "output_type": "execute_result"
    }
   ],
   "source": [
    "plot_prior_ix = 3\n",
    "plot_method_ix = 5\n",
    "histogram(bootstraps[plot_prior_ix, plot_method_ix, :])\n",
    "vline!([mmds[plot_prior_ix, plot_method_ix]], linewidth=2, linecolor=\"black\", label=\"MMD\")"
   ]
  },
  {
   "cell_type": "code",
   "execution_count": 13,
   "metadata": {},
   "outputs": [
    {
     "data": {
      "text/plain": [
       "3×6 Array{Float64,2}:\n",
       "  0.000190096  -3.10672e-5    9.75625e-6   …  -2.79931e-5   0.00114092\n",
       " -0.000172225  -0.000271305  -0.000243676     -0.000297938  0.00418496\n",
       "  3.58938e-5    1.00114e-5    4.3043e-6        3.57143e-5   0.00657048"
      ]
     },
     "execution_count": 13,
     "metadata": {},
     "output_type": "execute_result"
    }
   ],
   "source": [
    "mmds"
   ]
  },
  {
   "cell_type": "code",
   "execution_count": 14,
   "metadata": {},
   "outputs": [
    {
     "data": {
      "text/plain": [
       "3×6 Array{Float64,2}:\n",
       " 0.344  0.516  0.453  0.433  0.495  0.031\n",
       " 0.598  0.641  0.638  0.675  0.675  0.0  \n",
       " 0.481  0.469  0.482  0.488  0.475  0.0  "
      ]
     },
     "execution_count": 14,
     "metadata": {},
     "output_type": "execute_result"
    }
   ],
   "source": [
    "qs"
   ]
  },
  {
   "cell_type": "code",
   "execution_count": 15,
   "metadata": {},
   "outputs": [
    {
     "data": {
      "text/plain": [
       "print_table (generic function with 1 method)"
      ]
     },
     "execution_count": 15,
     "metadata": {},
     "output_type": "execute_result"
    }
   ],
   "source": [
    "using Printf\n",
    "function print_table(mmds, qs)\n",
    "    for i = 1:size(mmds,1)\n",
    "        print(\"& \\\\textsc{mmd}\")\n",
    "        for j = 1:size(mmds,2)\n",
    "            @printf(\" & %.2e\", mmds[i,j])\n",
    "        end\n",
    "        println(\" \\\\\\\\\")\n",
    "        print(\"& \\$q\\$\")\n",
    "        for j = 1:size(qs,2)\n",
    "            @printf(\" & %.2f\", qs[i,j])\n",
    "        end\n",
    "        println(\" \\\\\\\\\\\\hline\")\n",
    "    end\n",
    "end"
   ]
  },
  {
   "cell_type": "code",
   "execution_count": 16,
   "metadata": {},
   "outputs": [
    {
     "name": "stdout",
     "output_type": "stream",
     "text": [
      "& \\textsc{mmd} & 1.90e-04 & -3.11e-05 & 9.76e-06 & 5.36e-05 & -2.80e-05 & 1.14e-03 \\\\\n",
      "& $q$ & 0.34 & 0.52 & 0.45 & 0.43 & 0.49 & 0.03 \\\\\\hline\n",
      "& \\textsc{mmd} & -1.72e-04 & -2.71e-04 & -2.44e-04 & -3.20e-04 & -2.98e-04 & 4.18e-03 \\\\\n",
      "& $q$ & 0.60 & 0.64 & 0.64 & 0.68 & 0.68 & 0.00 \\\\\\hline\n",
      "& \\textsc{mmd} & 3.59e-05 & 1.00e-05 & 4.30e-06 & -6.62e-06 & 3.57e-05 & 6.57e-03 \\\\\n",
      "& $q$ & 0.48 & 0.47 & 0.48 & 0.49 & 0.47 & 0.00 \\\\\\hline\n"
     ]
    }
   ],
   "source": [
    "print_table(mmds, qs)"
   ]
  },
  {
   "cell_type": "markdown",
   "metadata": {},
   "source": [
    "### Table of Results"
   ]
  },
  {
   "cell_type": "code",
   "execution_count": 17,
   "metadata": {},
   "outputs": [
    {
     "ename": "UndefVarError",
     "evalue": "UndefVarError: results not defined",
     "output_type": "error",
     "traceback": [
      "UndefVarError: results not defined",
      "",
      "Stacktrace:",
      " [1] top-level scope at In[17]:5"
     ]
    }
   ],
   "source": [
    "# Converts matrix to LaTeX tabular in scienfitic notation\n",
    "\n",
    "figs = 2  #Number of figures after the decimal\n",
    "dollars = true  # Whether to have dollar signs for LaTeX. true for tables, false for matrices.\n",
    "\n",
    "print(Matrix2Tabular.matrix2tabular(results,figs,dollars))"
   ]
  },
  {
   "cell_type": "markdown",
   "metadata": {},
   "source": [
    "### Plots of Results\n",
    "\n",
    "#### Richardson Bootstrap MMD Compared to MMD"
   ]
  },
  {
   "cell_type": "code",
   "execution_count": 18,
   "metadata": {},
   "outputs": [
    {
     "ename": "UndefVarError",
     "evalue": "UndefVarError: boot_r not defined",
     "output_type": "error",
     "traceback": [
      "UndefVarError: boot_r not defined",
      "",
      "Stacktrace:",
      " [1] top-level scope at In[18]:1"
     ]
    }
   ],
   "source": [
    "histogram(boot_r, label=\"Bootstrap MMD Distribution\")\n",
    "vline!([results[1,1]], linewidth=2, linecolor=\"black\", label=\"MMD\")\n"
   ]
  },
  {
   "cell_type": "markdown",
   "metadata": {},
   "source": [
    "#### Richardson compared to 1-$\\alpha$"
   ]
  },
  {
   "cell_type": "code",
   "execution_count": 19,
   "metadata": {},
   "outputs": [
    {
     "ename": "UndefVarError",
     "evalue": "UndefVarError: boot_r not defined",
     "output_type": "error",
     "traceback": [
      "UndefVarError: boot_r not defined",
      "",
      "Stacktrace:",
      " [1] top-level scope at In[19]:2"
     ]
    }
   ],
   "source": [
    "α = .99\n",
    "histogram(boot_r, label=\"Bootstrap MMD Distribution\")\n",
    "vline!([1-α], linewidth=2, linecolor=\"black\", label=\"1 - α\")"
   ]
  },
  {
   "cell_type": "markdown",
   "metadata": {},
   "source": [
    "#### BayesCG Bootstrap MMD Compared to MMD"
   ]
  },
  {
   "cell_type": "code",
   "execution_count": 20,
   "metadata": {},
   "outputs": [
    {
     "ename": "UndefVarError",
     "evalue": "UndefVarError: boot_bayescg not defined",
     "output_type": "error",
     "traceback": [
      "UndefVarError: boot_bayescg not defined",
      "",
      "Stacktrace:",
      " [1] top-level scope at In[20]:1"
     ]
    }
   ],
   "source": [
    "histogram(boot_bayescg, label=\"Bootstrap MMD Distribution\")\n",
    "vline!([results[1,6]], linewidth=2, linecolor=\"black\", label=\"MMD\")\n"
   ]
  },
  {
   "cell_type": "markdown",
   "metadata": {},
   "source": [
    "#### BayesCG Bootstrap MMD compared to 1-$\\alpha$"
   ]
  },
  {
   "cell_type": "code",
   "execution_count": 21,
   "metadata": {},
   "outputs": [
    {
     "ename": "UndefVarError",
     "evalue": "UndefVarError: boot_bayescg not defined",
     "output_type": "error",
     "traceback": [
      "UndefVarError: boot_bayescg not defined",
      "",
      "Stacktrace:",
      " [1] top-level scope at In[21]:2"
     ]
    }
   ],
   "source": [
    "α = 0.99\n",
    "histogram(boot_bayescg, label=\"Bootstrap MMD Distribution\")\n",
    "vline!([1-α], linewidth=2, linecolor=\"black\", label=\"1 - α\")\n"
   ]
  },
  {
   "cell_type": "code",
   "execution_count": null,
   "metadata": {},
   "outputs": [],
   "source": []
  },
  {
   "cell_type": "code",
   "execution_count": null,
   "metadata": {},
   "outputs": [],
   "source": []
  }
 ],
 "metadata": {
  "kernelspec": {
   "display_name": "Julia 1.3.1",
   "language": "julia",
   "name": "julia-1.3"
  },
  "language_info": {
   "file_extension": ".jl",
   "mimetype": "application/julia",
   "name": "julia",
   "version": "1.3.1"
  },
  "toc": {
   "base_numbering": 1,
   "nav_menu": {},
   "number_sections": true,
   "sideBar": true,
   "skip_h1_title": false,
   "title_cell": "Table of Contents",
   "title_sidebar": "Contents",
   "toc_cell": false,
   "toc_position": {},
   "toc_section_display": true,
   "toc_window_display": true
  }
 },
 "nbformat": 4,
 "nbformat_minor": 2
}
