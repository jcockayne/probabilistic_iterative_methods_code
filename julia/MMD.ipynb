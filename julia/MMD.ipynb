{
 "cells": [
  {
   "cell_type": "markdown",
   "metadata": {},
   "source": [
    "# MMD tests in Julia\n",
    "\n",
    "## Setup"
   ]
  },
  {
   "cell_type": "code",
   "execution_count": 1,
   "metadata": {},
   "outputs": [
    {
     "name": "stdout",
     "output_type": "stream",
     "text": [
      "kernel_setup_script.jl has set up the interpolation problem. \n",
      " Interpolation matrix is k_Z and the corresponding x axis is Z The right hand side is f_z. \n",
      " The interpolation matrix for plotting is k_YZ and the corresponding x axis is Y. \n",
      " The direct solution to k_Z \\ f_z is X_direct_solution."
     ]
    }
   ],
   "source": [
    "using LinearAlgebra\n",
    "using Statistics\n",
    "using Plots    # Plots takes a long time to compile\n",
    "using Distributions\n",
    "\n",
    "# Parallel computing to speed up Bootstrap MMD. It still takes time though\n",
    "using Distributed\n",
    "rmprocs(procs()[2:end])\n",
    "addprocs(8) # This should be the number of simultaneous processes your computer can do\n",
    "\n",
    "include(\"MMD.jl\")\n",
    "include(\"IterativeMethods.jl\")\n",
    "include(\"kernel_setup_script.jl\")\n"
   ]
  },
  {
   "cell_type": "code",
   "execution_count": 2,
   "metadata": {},
   "outputs": [],
   "source": [
    "N = length(f_Z)\n",
    "samples = 500;\n",
    "iter = 10;\n",
    "N_mmd_bootstrap = 1000;"
   ]
  },
  {
   "cell_type": "markdown",
   "metadata": {},
   "source": [
    "### Normal distribution sampling function"
   ]
  },
  {
   "cell_type": "code",
   "execution_count": 3,
   "metadata": {},
   "outputs": [
    {
     "data": {
      "text/plain": [
       "mv_normal (generic function with 2 methods)"
      ]
     },
     "execution_count": 3,
     "metadata": {},
     "output_type": "execute_result"
    }
   ],
   "source": [
    "function mv_normal(mean::Array{Float64,1},cov::AbstractMatrix{Float64},N_samples::Int64=1)\n",
    "    M = length(mean)\n",
    "    F = svd(cov)\n",
    "    cov = F.V*(F.S.*F.V')\n",
    "    samples = zeros(M,N_samples)\n",
    "    for i = 1:N_samples\n",
    "        samples[:,i] = mean + cov*randn(N)\n",
    "    end\n",
    "    return samples\n",
    "end\n"
   ]
  },
  {
   "cell_type": "code",
   "execution_count": 4,
   "metadata": {},
   "outputs": [
    {
     "data": {
      "text/plain": [
       "5.425715125223759"
      ]
     },
     "execution_count": 4,
     "metadata": {},
     "output_type": "execute_result"
    }
   ],
   "source": [
    "mle_prior_N_samples = 5\n",
    "mle_prior_samples = mv_normal(zeros(N), Diagonal(ones(N)), mle_prior_N_samples)\n",
    "\n",
    "scale = 0\n",
    "for i = 1:mle_prior_N_samples\n",
    "    scale += norm(k_Z \\ mle_prior_samples[:,i])^2\n",
    "end\n",
    "mle_prior_scale = scale / (N*mle_prior_N_samples)"
   ]
  },
  {
   "cell_type": "markdown",
   "metadata": {},
   "source": [
    "# Methods"
   ]
  },
  {
   "cell_type": "code",
   "execution_count": 5,
   "metadata": {},
   "outputs": [
    {
     "data": {
      "text/plain": [
       "run_bayescg (generic function with 1 method)"
      ]
     },
     "execution_count": 5,
     "metadata": {},
     "output_type": "execute_result"
    }
   ],
   "source": [
    "function run_richardson_default(prior, truth)\n",
    "    x0 = rand(prior)\n",
    "    IterativeMethods.Richardson(k_Z, k_Z*truth, x0, iter, 2/3)\n",
    "end\n",
    "function run_richardson_optimal(prior, truth)\n",
    "    x0 = rand(prior)\n",
    "    IterativeMethods.Richardson(k_Z, k_Z*truth, x0, iter, IterativeMethods.Optimal)\n",
    "end\n",
    "function run_richardson_adaptive(prior, truth)\n",
    "    x0 = rand(prior)\n",
    "    IterativeMethods.Richardson(k_Z, k_Z*truth, x0, iter, IterativeMethods.Adaptive)\n",
    "end\n",
    "function run_richardson_second_order(prior, truth)\n",
    "    x0 = rand(prior)\n",
    "    b = k_Z*truth\n",
    "    prior2 = IterativeMethods.Richardson(k_Z, b, x0, iter, IterativeMethods.Optimal)\n",
    "    IterativeMethods.Richardson2(k_Z, b, [prior2; x0], iter)[1:N]\n",
    "end\n",
    "function run_cg(prior, truth)\n",
    "    x0 = rand(prior)\n",
    "    IterativeMethods.cg(k_Z, k_Z*truth, x0, iter, 1e-10)\n",
    "end\n",
    "function run_bayescg(prior, truth)\n",
    "    inverse_prior = inv(k_Z)\n",
    "    b = k_Z*truth\n",
    "    xm,sigm = IterativeMethods.bayescg(k_Z, b, mean(prior), cov(prior), iter, 1e-10)\n",
    "    mv_normal(xm,sigm)\n",
    "end"
   ]
  },
  {
   "cell_type": "markdown",
   "metadata": {},
   "source": [
    "## MMD Tests\n",
    "\n",
    "### Setup"
   ]
  },
  {
   "cell_type": "code",
   "execution_count": 6,
   "metadata": {},
   "outputs": [
    {
     "data": {
      "text/plain": [
       "compute_q (generic function with 1 method)"
      ]
     },
     "execution_count": 6,
     "metadata": {},
     "output_type": "execute_result"
    }
   ],
   "source": [
    "function run_mmd(input_samples, output_samples; n_samples=100, n_mmd_bootstrap=1000)\n",
    "    ker = MMD.mmd_kernel_factory(input_samples, output_samples)\n",
    "    mmd = MMD.mmd_p(input_samples,output_samples,ker)\n",
    "    boot = MMD.bootstrap_mmd(input_samples[1:n_samples, :], output_samples[1:n_samples, :], ker, n_mmd_bootstrap)\n",
    "    mmd, boot\n",
    "end\n",
    "\n",
    "function compute_q(mmd, boot)\n",
    "    (length(boot[boot.>=mmd]))/(length(boot))\n",
    "end"
   ]
  },
  {
   "cell_type": "code",
   "execution_count": 7,
   "metadata": {},
   "outputs": [],
   "source": [
    "all_priors = [\n",
    "    Distributions.MvNormal(N, 1.0), # Identity\n",
    "    Distributions.MvNormalCanon(zeros(N), k_Z), # Natural\n",
    "    Distributions.MvNormal(zeros(N), mle_prior_scale*I) # MLE\n",
    "];\n",
    "all_methods = [\n",
    "    run_richardson_default,\n",
    "    run_richardson_optimal,\n",
    "    run_richardson_adaptive,\n",
    "    run_richardson_second_order,\n",
    "    run_cg,\n",
    "    run_bayescg\n",
    "];"
   ]
  },
  {
   "cell_type": "code",
   "execution_count": 8,
   "metadata": {},
   "outputs": [
    {
     "data": {
      "text/plain": [
       "broadcast_method (generic function with 1 method)"
      ]
     },
     "execution_count": 8,
     "metadata": {},
     "output_type": "execute_result"
    }
   ],
   "source": [
    "function broadcast_method(method, prior, truths)\n",
    "    method_output = zeros(size(truths))\n",
    "    for i = 1:size(truths, 1)\n",
    "        method_output[i,:] = method(prior, truths[i,:])\n",
    "    end\n",
    "    method_output\n",
    "end"
   ]
  },
  {
   "cell_type": "code",
   "execution_count": 9,
   "metadata": {},
   "outputs": [
    {
     "data": {
      "text/plain": [
       "100"
      ]
     },
     "execution_count": 9,
     "metadata": {},
     "output_type": "execute_result"
    }
   ],
   "source": [
    "n_mmd_bootstrap = 1000\n",
    "n_samples = 100"
   ]
  },
  {
   "cell_type": "code",
   "execution_count": 10,
   "metadata": {},
   "outputs": [],
   "source": [
    "n_methods = length(all_methods);\n",
    "n_priors = length(all_priors);\n",
    "mmds = zeros(n_priors, n_methods);\n",
    "bootstraps = Array{Float64, 3}(undef, n_priors, n_methods, n_mmd_bootstrap)\n",
    "qs = zeros(n_priors, n_methods);"
   ]
  },
  {
   "cell_type": "code",
   "execution_count": 11,
   "metadata": {},
   "outputs": [
    {
     "name": "stdout",
     "output_type": "stream",
     "text": [
      "Prior 1, Method 1 ... Sampling ... Bootstrapping ... Storing\n",
      "Prior 1, Method 2 ... Sampling ... Bootstrapping ... Storing\n",
      "Prior 1, Method 3 ... Sampling ... Bootstrapping ... Storing\n",
      "Prior 1, Method 4 ... Sampling ... Bootstrapping ... Storing\n",
      "Prior 1, Method 5 ... Sampling ... Bootstrapping ... Storing\n",
      "Prior 1, Method 6 ... Sampling ... Bootstrapping ... Storing\n",
      "Prior 2, Method 1 ... Sampling ... Bootstrapping ... Storing\n",
      "Prior 2, Method 2 ... Sampling ... Bootstrapping ... Storing\n",
      "Prior 2, Method 3 ... Sampling ... Bootstrapping ... Storing\n",
      "Prior 2, Method 4 ... Sampling ... Bootstrapping ... Storing\n",
      "Prior 2, Method 5 ... Sampling ... Bootstrapping ... Storing\n",
      "Prior 2, Method 6 ... Sampling ... Bootstrapping ... Storing\n",
      "Prior 3, Method 1 ... Sampling ... Bootstrapping ... Storing\n",
      "Prior 3, Method 2 ... Sampling ... Bootstrapping ... Storing\n",
      "Prior 3, Method 3 ... Sampling ... Bootstrapping ... Storing\n",
      "Prior 3, Method 4 ... Sampling ... Bootstrapping ... Storing\n",
      "Prior 3, Method 5 ... Sampling ... Bootstrapping ... Storing\n",
      "Prior 3, Method 6 ... Sampling ... Bootstrapping ... Storing\n"
     ]
    }
   ],
   "source": [
    "for prior_ix = 1:n_priors\n",
    "    prior = all_priors[prior_ix]\n",
    "    for method_ix = 1:n_methods\n",
    "        print(\"Prior $prior_ix, Method $method_ix\")\n",
    "        method = all_methods[method_ix]\n",
    "        \n",
    "        print(\" ... Sampling\")\n",
    "        s1 = rand(prior, n_samples)'\n",
    "        truth = rand(prior, n_samples)'\n",
    "        # map input sample to output sample\n",
    "        method_output = broadcast_method(method, prior, truth)\n",
    "        \n",
    "        # bootstrap MMD on the output\n",
    "        print(\" ... Bootstrapping\")\n",
    "        mmd, bootstrap = run_mmd(s1, method_output, n_samples=n_samples, n_mmd_bootstrap=n_mmd_bootstrap)\n",
    "        \n",
    "        print(\" ... Storing\")\n",
    "        bootstraps[prior_ix, method_ix, :] = bootstrap\n",
    "        mmds[prior_ix, method_ix] = mmd\n",
    "        qs[prior_ix, method_ix] = compute_q(mmd, bootstrap)\n",
    "        println(\"\")\n",
    "    end\n",
    "end"
   ]
  },
  {
   "cell_type": "code",
   "execution_count": 12,
   "metadata": {},
   "outputs": [
    {
     "data": {
      "image/svg+xml": [
       "<?xml version=\"1.0\" encoding=\"utf-8\"?>\n",
       "<svg xmlns=\"http://www.w3.org/2000/svg\" xmlns:xlink=\"http://www.w3.org/1999/xlink\" width=\"600\" height=\"400\" viewBox=\"0 0 2400 1600\">\n",
       "<defs>\n",
       "  <clipPath id=\"clip430\">\n",
       "    <rect x=\"0\" y=\"0\" width=\"2400\" height=\"1600\"/>\n",
       "  </clipPath>\n",
       "</defs>\n",
       "<path clip-path=\"url(#clip430)\" d=\"\n",
       "M0 1600 L2400 1600 L2400 0 L0 0  Z\n",
       "  \" fill=\"#ffffff\" fill-rule=\"evenodd\" fill-opacity=\"1\"/>\n",
       "<defs>\n",
       "  <clipPath id=\"clip431\">\n",
       "    <rect x=\"480\" y=\"0\" width=\"1681\" height=\"1600\"/>\n",
       "  </clipPath>\n",
       "</defs>\n",
       "<path clip-path=\"url(#clip430)\" d=\"\n",
       "M161.598 1486.45 L2352.76 1486.45 L2352.76 47.2441 L161.598 47.2441  Z\n",
       "  \" fill=\"#ffffff\" fill-rule=\"evenodd\" fill-opacity=\"1\"/>\n",
       "<defs>\n",
       "  <clipPath id=\"clip432\">\n",
       "    <rect x=\"161\" y=\"47\" width=\"2192\" height=\"1440\"/>\n",
       "  </clipPath>\n",
       "</defs>\n",
       "<polyline clip-path=\"url(#clip432)\" style=\"stroke:#000000; stroke-width:2; stroke-opacity:0.1; fill:none\" points=\"\n",
       "  217.112,1486.45 217.112,47.2441 \n",
       "  \"/>\n",
       "<polyline clip-path=\"url(#clip432)\" style=\"stroke:#000000; stroke-width:2; stroke-opacity:0.1; fill:none\" points=\"\n",
       "  542.132,1486.45 542.132,47.2441 \n",
       "  \"/>\n",
       "<polyline clip-path=\"url(#clip432)\" style=\"stroke:#000000; stroke-width:2; stroke-opacity:0.1; fill:none\" points=\"\n",
       "  867.153,1486.45 867.153,47.2441 \n",
       "  \"/>\n",
       "<polyline clip-path=\"url(#clip432)\" style=\"stroke:#000000; stroke-width:2; stroke-opacity:0.1; fill:none\" points=\"\n",
       "  1192.17,1486.45 1192.17,47.2441 \n",
       "  \"/>\n",
       "<polyline clip-path=\"url(#clip432)\" style=\"stroke:#000000; stroke-width:2; stroke-opacity:0.1; fill:none\" points=\"\n",
       "  1517.19,1486.45 1517.19,47.2441 \n",
       "  \"/>\n",
       "<polyline clip-path=\"url(#clip432)\" style=\"stroke:#000000; stroke-width:2; stroke-opacity:0.1; fill:none\" points=\"\n",
       "  1842.21,1486.45 1842.21,47.2441 \n",
       "  \"/>\n",
       "<polyline clip-path=\"url(#clip432)\" style=\"stroke:#000000; stroke-width:2; stroke-opacity:0.1; fill:none\" points=\"\n",
       "  2167.23,1486.45 2167.23,47.2441 \n",
       "  \"/>\n",
       "<polyline clip-path=\"url(#clip432)\" style=\"stroke:#000000; stroke-width:2; stroke-opacity:0.1; fill:none\" points=\"\n",
       "  161.598,1445.72 2352.76,1445.72 \n",
       "  \"/>\n",
       "<polyline clip-path=\"url(#clip432)\" style=\"stroke:#000000; stroke-width:2; stroke-opacity:0.1; fill:none\" points=\"\n",
       "  161.598,1055.56 2352.76,1055.56 \n",
       "  \"/>\n",
       "<polyline clip-path=\"url(#clip432)\" style=\"stroke:#000000; stroke-width:2; stroke-opacity:0.1; fill:none\" points=\"\n",
       "  161.598,665.406 2352.76,665.406 \n",
       "  \"/>\n",
       "<polyline clip-path=\"url(#clip432)\" style=\"stroke:#000000; stroke-width:2; stroke-opacity:0.1; fill:none\" points=\"\n",
       "  161.598,275.251 2352.76,275.251 \n",
       "  \"/>\n",
       "<polyline clip-path=\"url(#clip430)\" style=\"stroke:#000000; stroke-width:4; stroke-opacity:1; fill:none\" points=\"\n",
       "  161.598,1486.45 2352.76,1486.45 \n",
       "  \"/>\n",
       "<polyline clip-path=\"url(#clip430)\" style=\"stroke:#000000; stroke-width:4; stroke-opacity:1; fill:none\" points=\"\n",
       "  161.598,1486.45 161.598,47.2441 \n",
       "  \"/>\n",
       "<polyline clip-path=\"url(#clip430)\" style=\"stroke:#000000; stroke-width:4; stroke-opacity:1; fill:none\" points=\"\n",
       "  217.112,1486.45 217.112,1469.18 \n",
       "  \"/>\n",
       "<polyline clip-path=\"url(#clip430)\" style=\"stroke:#000000; stroke-width:4; stroke-opacity:1; fill:none\" points=\"\n",
       "  542.132,1486.45 542.132,1469.18 \n",
       "  \"/>\n",
       "<polyline clip-path=\"url(#clip430)\" style=\"stroke:#000000; stroke-width:4; stroke-opacity:1; fill:none\" points=\"\n",
       "  867.153,1486.45 867.153,1469.18 \n",
       "  \"/>\n",
       "<polyline clip-path=\"url(#clip430)\" style=\"stroke:#000000; stroke-width:4; stroke-opacity:1; fill:none\" points=\"\n",
       "  1192.17,1486.45 1192.17,1469.18 \n",
       "  \"/>\n",
       "<polyline clip-path=\"url(#clip430)\" style=\"stroke:#000000; stroke-width:4; stroke-opacity:1; fill:none\" points=\"\n",
       "  1517.19,1486.45 1517.19,1469.18 \n",
       "  \"/>\n",
       "<polyline clip-path=\"url(#clip430)\" style=\"stroke:#000000; stroke-width:4; stroke-opacity:1; fill:none\" points=\"\n",
       "  1842.21,1486.45 1842.21,1469.18 \n",
       "  \"/>\n",
       "<polyline clip-path=\"url(#clip430)\" style=\"stroke:#000000; stroke-width:4; stroke-opacity:1; fill:none\" points=\"\n",
       "  2167.23,1486.45 2167.23,1469.18 \n",
       "  \"/>\n",
       "<polyline clip-path=\"url(#clip430)\" style=\"stroke:#000000; stroke-width:4; stroke-opacity:1; fill:none\" points=\"\n",
       "  161.598,1445.72 187.892,1445.72 \n",
       "  \"/>\n",
       "<polyline clip-path=\"url(#clip430)\" style=\"stroke:#000000; stroke-width:4; stroke-opacity:1; fill:none\" points=\"\n",
       "  161.598,1055.56 187.892,1055.56 \n",
       "  \"/>\n",
       "<polyline clip-path=\"url(#clip430)\" style=\"stroke:#000000; stroke-width:4; stroke-opacity:1; fill:none\" points=\"\n",
       "  161.598,665.406 187.892,665.406 \n",
       "  \"/>\n",
       "<polyline clip-path=\"url(#clip430)\" style=\"stroke:#000000; stroke-width:4; stroke-opacity:1; fill:none\" points=\"\n",
       "  161.598,275.251 187.892,275.251 \n",
       "  \"/>\n",
       "<path clip-path=\"url(#clip430)\" d=\"M 0 0 M139.473 1525.04 L151.95 1525.04 L151.95 1528.83 L139.473 1528.83 L139.473 1525.04 Z\" fill=\"#000000\" fill-rule=\"evenodd\" fill-opacity=\"1\" /><path clip-path=\"url(#clip430)\" d=\"M 0 0 M167.019 1508.44 Q163.408 1508.44 161.58 1512 Q159.774 1515.55 159.774 1522.67 Q159.774 1529.78 161.58 1533.35 Q163.408 1536.89 167.019 1536.89 Q170.654 1536.89 172.459 1533.35 Q174.288 1529.78 174.288 1522.67 Q174.288 1515.55 172.459 1512 Q170.654 1508.44 167.019 1508.44 M167.019 1504.73 Q172.83 1504.73 175.885 1509.34 Q178.964 1513.92 178.964 1522.67 Q178.964 1531.4 175.885 1536.01 Q172.83 1540.59 167.019 1540.59 Q161.209 1540.59 158.131 1536.01 Q155.075 1531.4 155.075 1522.67 Q155.075 1513.92 158.131 1509.34 Q161.209 1504.73 167.019 1504.73 Z\" fill=\"#000000\" fill-rule=\"evenodd\" fill-opacity=\"1\" /><path clip-path=\"url(#clip430)\" d=\"M 0 0 M184.033 1534.04 L188.917 1534.04 L188.917 1539.92 L184.033 1539.92 L184.033 1534.04 Z\" fill=\"#000000\" fill-rule=\"evenodd\" fill-opacity=\"1\" /><path clip-path=\"url(#clip430)\" d=\"M 0 0 M203.987 1508.44 Q200.376 1508.44 198.547 1512 Q196.741 1515.55 196.741 1522.67 Q196.741 1529.78 198.547 1533.35 Q200.376 1536.89 203.987 1536.89 Q207.621 1536.89 209.427 1533.35 Q211.255 1529.78 211.255 1522.67 Q211.255 1515.55 209.427 1512 Q207.621 1508.44 203.987 1508.44 M203.987 1504.73 Q209.797 1504.73 212.852 1509.34 Q215.931 1513.92 215.931 1522.67 Q215.931 1531.4 212.852 1536.01 Q209.797 1540.59 203.987 1540.59 Q198.177 1540.59 195.098 1536.01 Q192.042 1531.4 192.042 1522.67 Q192.042 1513.92 195.098 1509.34 Q198.177 1504.73 203.987 1504.73 Z\" fill=\"#000000\" fill-rule=\"evenodd\" fill-opacity=\"1\" /><path clip-path=\"url(#clip430)\" d=\"M 0 0 M231.001 1508.44 Q227.389 1508.44 225.561 1512 Q223.755 1515.55 223.755 1522.67 Q223.755 1529.78 225.561 1533.35 Q227.389 1536.89 231.001 1536.89 Q234.635 1536.89 236.44 1533.35 Q238.269 1529.78 238.269 1522.67 Q238.269 1515.55 236.44 1512 Q234.635 1508.44 231.001 1508.44 M231.001 1504.73 Q236.811 1504.73 239.866 1509.34 Q242.945 1513.92 242.945 1522.67 Q242.945 1531.4 239.866 1536.01 Q236.811 1540.59 231.001 1540.59 Q225.19 1540.59 222.112 1536.01 Q219.056 1531.4 219.056 1522.67 Q219.056 1513.92 222.112 1509.34 Q225.19 1504.73 231.001 1504.73 Z\" fill=\"#000000\" fill-rule=\"evenodd\" fill-opacity=\"1\" /><path clip-path=\"url(#clip430)\" d=\"M 0 0 M248.824 1535.98 L256.463 1535.98 L256.463 1509.62 L248.153 1511.29 L248.153 1507.03 L256.417 1505.36 L261.093 1505.36 L261.093 1535.98 L268.732 1535.98 L268.732 1539.92 L248.824 1539.92 L248.824 1535.98 Z\" fill=\"#000000\" fill-rule=\"evenodd\" fill-opacity=\"1\" /><path clip-path=\"url(#clip430)\" d=\"M 0 0 M273.848 1505.36 L292.204 1505.36 L292.204 1509.3 L278.13 1509.3 L278.13 1517.77 Q279.148 1517.42 280.167 1517.26 Q281.185 1517.07 282.204 1517.07 Q287.991 1517.07 291.371 1520.24 Q294.75 1523.42 294.75 1528.83 Q294.75 1534.41 291.278 1537.51 Q287.806 1540.59 281.486 1540.59 Q279.31 1540.59 277.042 1540.22 Q274.797 1539.85 272.389 1539.11 L272.389 1534.41 Q274.473 1535.54 276.695 1536.1 Q278.917 1536.66 281.394 1536.66 Q285.398 1536.66 287.736 1534.55 Q290.074 1532.44 290.074 1528.83 Q290.074 1525.22 287.736 1523.11 Q285.398 1521.01 281.394 1521.01 Q279.519 1521.01 277.644 1521.42 Q275.792 1521.84 273.848 1522.72 L273.848 1505.36 Z\" fill=\"#000000\" fill-rule=\"evenodd\" fill-opacity=\"1\" /><path clip-path=\"url(#clip430)\" d=\"M 0 0 M463.996 1525.04 L476.473 1525.04 L476.473 1528.83 L463.996 1528.83 L463.996 1525.04 Z\" fill=\"#000000\" fill-rule=\"evenodd\" fill-opacity=\"1\" /><path clip-path=\"url(#clip430)\" d=\"M 0 0 M491.542 1508.44 Q487.931 1508.44 486.102 1512 Q484.297 1515.55 484.297 1522.67 Q484.297 1529.78 486.102 1533.35 Q487.931 1536.89 491.542 1536.89 Q495.176 1536.89 496.982 1533.35 Q498.811 1529.78 498.811 1522.67 Q498.811 1515.55 496.982 1512 Q495.176 1508.44 491.542 1508.44 M491.542 1504.73 Q497.352 1504.73 500.408 1509.34 Q503.486 1513.92 503.486 1522.67 Q503.486 1531.4 500.408 1536.01 Q497.352 1540.59 491.542 1540.59 Q485.732 1540.59 482.653 1536.01 Q479.598 1531.4 479.598 1522.67 Q479.598 1513.92 482.653 1509.34 Q485.732 1504.73 491.542 1504.73 Z\" fill=\"#000000\" fill-rule=\"evenodd\" fill-opacity=\"1\" /><path clip-path=\"url(#clip430)\" d=\"M 0 0 M508.556 1534.04 L513.44 1534.04 L513.44 1539.92 L508.556 1539.92 L508.556 1534.04 Z\" fill=\"#000000\" fill-rule=\"evenodd\" fill-opacity=\"1\" /><path clip-path=\"url(#clip430)\" d=\"M 0 0 M528.51 1508.44 Q524.898 1508.44 523.07 1512 Q521.264 1515.55 521.264 1522.67 Q521.264 1529.78 523.07 1533.35 Q524.898 1536.89 528.51 1536.89 Q532.144 1536.89 533.949 1533.35 Q535.778 1529.78 535.778 1522.67 Q535.778 1515.55 533.949 1512 Q532.144 1508.44 528.51 1508.44 M528.51 1504.73 Q534.32 1504.73 537.375 1509.34 Q540.454 1513.92 540.454 1522.67 Q540.454 1531.4 537.375 1536.01 Q534.32 1540.59 528.51 1540.59 Q522.699 1540.59 519.621 1536.01 Q516.565 1531.4 516.565 1522.67 Q516.565 1513.92 519.621 1509.34 Q522.699 1504.73 528.51 1504.73 Z\" fill=\"#000000\" fill-rule=\"evenodd\" fill-opacity=\"1\" /><path clip-path=\"url(#clip430)\" d=\"M 0 0 M555.523 1508.44 Q551.912 1508.44 550.083 1512 Q548.278 1515.55 548.278 1522.67 Q548.278 1529.78 550.083 1533.35 Q551.912 1536.89 555.523 1536.89 Q559.157 1536.89 560.963 1533.35 Q562.792 1529.78 562.792 1522.67 Q562.792 1515.55 560.963 1512 Q559.157 1508.44 555.523 1508.44 M555.523 1504.73 Q561.333 1504.73 564.389 1509.34 Q567.468 1513.92 567.468 1522.67 Q567.468 1531.4 564.389 1536.01 Q561.333 1540.59 555.523 1540.59 Q549.713 1540.59 546.634 1536.01 Q543.579 1531.4 543.579 1522.67 Q543.579 1513.92 546.634 1509.34 Q549.713 1504.73 555.523 1504.73 Z\" fill=\"#000000\" fill-rule=\"evenodd\" fill-opacity=\"1\" /><path clip-path=\"url(#clip430)\" d=\"M 0 0 M573.347 1535.98 L580.986 1535.98 L580.986 1509.62 L572.676 1511.29 L572.676 1507.03 L580.94 1505.36 L585.616 1505.36 L585.616 1535.98 L593.255 1535.98 L593.255 1539.92 L573.347 1539.92 L573.347 1535.98 Z\" fill=\"#000000\" fill-rule=\"evenodd\" fill-opacity=\"1\" /><path clip-path=\"url(#clip430)\" d=\"M 0 0 M608.324 1508.44 Q604.713 1508.44 602.884 1512 Q601.079 1515.55 601.079 1522.67 Q601.079 1529.78 602.884 1533.35 Q604.713 1536.89 608.324 1536.89 Q611.958 1536.89 613.764 1533.35 Q615.592 1529.78 615.592 1522.67 Q615.592 1515.55 613.764 1512 Q611.958 1508.44 608.324 1508.44 M608.324 1504.73 Q614.134 1504.73 617.19 1509.34 Q620.268 1513.92 620.268 1522.67 Q620.268 1531.4 617.19 1536.01 Q614.134 1540.59 608.324 1540.59 Q602.514 1540.59 599.435 1536.01 Q596.38 1531.4 596.38 1522.67 Q596.38 1513.92 599.435 1509.34 Q602.514 1504.73 608.324 1504.73 Z\" fill=\"#000000\" fill-rule=\"evenodd\" fill-opacity=\"1\" /><path clip-path=\"url(#clip430)\" d=\"M 0 0 M788.901 1525.04 L801.377 1525.04 L801.377 1528.83 L788.901 1528.83 L788.901 1525.04 Z\" fill=\"#000000\" fill-rule=\"evenodd\" fill-opacity=\"1\" /><path clip-path=\"url(#clip430)\" d=\"M 0 0 M816.447 1508.44 Q812.836 1508.44 811.007 1512 Q809.201 1515.55 809.201 1522.67 Q809.201 1529.78 811.007 1533.35 Q812.836 1536.89 816.447 1536.89 Q820.081 1536.89 821.887 1533.35 Q823.715 1529.78 823.715 1522.67 Q823.715 1515.55 821.887 1512 Q820.081 1508.44 816.447 1508.44 M816.447 1504.73 Q822.257 1504.73 825.312 1509.34 Q828.391 1513.92 828.391 1522.67 Q828.391 1531.4 825.312 1536.01 Q822.257 1540.59 816.447 1540.59 Q810.637 1540.59 807.558 1536.01 Q804.502 1531.4 804.502 1522.67 Q804.502 1513.92 807.558 1509.34 Q810.637 1504.73 816.447 1504.73 Z\" fill=\"#000000\" fill-rule=\"evenodd\" fill-opacity=\"1\" /><path clip-path=\"url(#clip430)\" d=\"M 0 0 M833.461 1534.04 L838.345 1534.04 L838.345 1539.92 L833.461 1539.92 L833.461 1534.04 Z\" fill=\"#000000\" fill-rule=\"evenodd\" fill-opacity=\"1\" /><path clip-path=\"url(#clip430)\" d=\"M 0 0 M853.414 1508.44 Q849.803 1508.44 847.974 1512 Q846.169 1515.55 846.169 1522.67 Q846.169 1529.78 847.974 1533.35 Q849.803 1536.89 853.414 1536.89 Q857.048 1536.89 858.854 1533.35 Q860.683 1529.78 860.683 1522.67 Q860.683 1515.55 858.854 1512 Q857.048 1508.44 853.414 1508.44 M853.414 1504.73 Q859.224 1504.73 862.28 1509.34 Q865.359 1513.92 865.359 1522.67 Q865.359 1531.4 862.28 1536.01 Q859.224 1540.59 853.414 1540.59 Q847.604 1540.59 844.525 1536.01 Q841.47 1531.4 841.47 1522.67 Q841.47 1513.92 844.525 1509.34 Q847.604 1504.73 853.414 1504.73 Z\" fill=\"#000000\" fill-rule=\"evenodd\" fill-opacity=\"1\" /><path clip-path=\"url(#clip430)\" d=\"M 0 0 M880.428 1508.44 Q876.817 1508.44 874.988 1512 Q873.183 1515.55 873.183 1522.67 Q873.183 1529.78 874.988 1533.35 Q876.817 1536.89 880.428 1536.89 Q884.062 1536.89 885.868 1533.35 Q887.696 1529.78 887.696 1522.67 Q887.696 1515.55 885.868 1512 Q884.062 1508.44 880.428 1508.44 M880.428 1504.73 Q886.238 1504.73 889.294 1509.34 Q892.372 1513.92 892.372 1522.67 Q892.372 1531.4 889.294 1536.01 Q886.238 1540.59 880.428 1540.59 Q874.618 1540.59 871.539 1536.01 Q868.484 1531.4 868.484 1522.67 Q868.484 1513.92 871.539 1509.34 Q874.618 1504.73 880.428 1504.73 Z\" fill=\"#000000\" fill-rule=\"evenodd\" fill-opacity=\"1\" /><path clip-path=\"url(#clip430)\" d=\"M 0 0 M907.442 1508.44 Q903.831 1508.44 902.002 1512 Q900.196 1515.55 900.196 1522.67 Q900.196 1529.78 902.002 1533.35 Q903.831 1536.89 907.442 1536.89 Q911.076 1536.89 912.881 1533.35 Q914.71 1529.78 914.71 1522.67 Q914.71 1515.55 912.881 1512 Q911.076 1508.44 907.442 1508.44 M907.442 1504.73 Q913.252 1504.73 916.307 1509.34 Q919.386 1513.92 919.386 1522.67 Q919.386 1531.4 916.307 1536.01 Q913.252 1540.59 907.442 1540.59 Q901.632 1540.59 898.553 1536.01 Q895.497 1531.4 895.497 1522.67 Q895.497 1513.92 898.553 1509.34 Q901.632 1504.73 907.442 1504.73 Z\" fill=\"#000000\" fill-rule=\"evenodd\" fill-opacity=\"1\" /><path clip-path=\"url(#clip430)\" d=\"M 0 0 M924.502 1505.36 L942.858 1505.36 L942.858 1509.3 L928.784 1509.3 L928.784 1517.77 Q929.803 1517.42 930.821 1517.26 Q931.84 1517.07 932.858 1517.07 Q938.645 1517.07 942.025 1520.24 Q945.404 1523.42 945.404 1528.83 Q945.404 1534.41 941.932 1537.51 Q938.46 1540.59 932.141 1540.59 Q929.965 1540.59 927.696 1540.22 Q925.451 1539.85 923.043 1539.11 L923.043 1534.41 Q925.127 1535.54 927.349 1536.1 Q929.571 1536.66 932.048 1536.66 Q936.053 1536.66 938.391 1534.55 Q940.729 1532.44 940.729 1528.83 Q940.729 1525.22 938.391 1523.11 Q936.053 1521.01 932.048 1521.01 Q930.173 1521.01 928.298 1521.42 Q926.446 1521.84 924.502 1522.72 L924.502 1505.36 Z\" fill=\"#000000\" fill-rule=\"evenodd\" fill-opacity=\"1\" /><path clip-path=\"url(#clip430)\" d=\"M 0 0 M1133.17 1508.44 Q1129.56 1508.44 1127.73 1512 Q1125.92 1515.55 1125.92 1522.67 Q1125.92 1529.78 1127.73 1533.35 Q1129.56 1536.89 1133.17 1536.89 Q1136.8 1536.89 1138.61 1533.35 Q1140.44 1529.78 1140.44 1522.67 Q1140.44 1515.55 1138.61 1512 Q1136.8 1508.44 1133.17 1508.44 M1133.17 1504.73 Q1138.98 1504.73 1142.03 1509.34 Q1145.11 1513.92 1145.11 1522.67 Q1145.11 1531.4 1142.03 1536.01 Q1138.98 1540.59 1133.17 1540.59 Q1127.36 1540.59 1124.28 1536.01 Q1121.22 1531.4 1121.22 1522.67 Q1121.22 1513.92 1124.28 1509.34 Q1127.36 1504.73 1133.17 1504.73 Z\" fill=\"#000000\" fill-rule=\"evenodd\" fill-opacity=\"1\" /><path clip-path=\"url(#clip430)\" d=\"M 0 0 M1150.18 1534.04 L1155.07 1534.04 L1155.07 1539.92 L1150.18 1539.92 L1150.18 1534.04 Z\" fill=\"#000000\" fill-rule=\"evenodd\" fill-opacity=\"1\" /><path clip-path=\"url(#clip430)\" d=\"M 0 0 M1170.14 1508.44 Q1166.52 1508.44 1164.7 1512 Q1162.89 1515.55 1162.89 1522.67 Q1162.89 1529.78 1164.7 1533.35 Q1166.52 1536.89 1170.14 1536.89 Q1173.77 1536.89 1175.58 1533.35 Q1177.4 1529.78 1177.4 1522.67 Q1177.4 1515.55 1175.58 1512 Q1173.77 1508.44 1170.14 1508.44 M1170.14 1504.73 Q1175.95 1504.73 1179 1509.34 Q1182.08 1513.92 1182.08 1522.67 Q1182.08 1531.4 1179 1536.01 Q1175.95 1540.59 1170.14 1540.59 Q1164.33 1540.59 1161.25 1536.01 Q1158.19 1531.4 1158.19 1522.67 Q1158.19 1513.92 1161.25 1509.34 Q1164.33 1504.73 1170.14 1504.73 Z\" fill=\"#000000\" fill-rule=\"evenodd\" fill-opacity=\"1\" /><path clip-path=\"url(#clip430)\" d=\"M 0 0 M1197.15 1508.44 Q1193.54 1508.44 1191.71 1512 Q1189.9 1515.55 1189.9 1522.67 Q1189.9 1529.78 1191.71 1533.35 Q1193.54 1536.89 1197.15 1536.89 Q1200.78 1536.89 1202.59 1533.35 Q1204.42 1529.78 1204.42 1522.67 Q1204.42 1515.55 1202.59 1512 Q1200.78 1508.44 1197.15 1508.44 M1197.15 1504.73 Q1202.96 1504.73 1206.02 1509.34 Q1209.09 1513.92 1209.09 1522.67 Q1209.09 1531.4 1206.02 1536.01 Q1202.96 1540.59 1197.15 1540.59 Q1191.34 1540.59 1188.26 1536.01 Q1185.21 1531.4 1185.21 1522.67 Q1185.21 1513.92 1188.26 1509.34 Q1191.34 1504.73 1197.15 1504.73 Z\" fill=\"#000000\" fill-rule=\"evenodd\" fill-opacity=\"1\" /><path clip-path=\"url(#clip430)\" d=\"M 0 0 M1224.16 1508.44 Q1220.55 1508.44 1218.72 1512 Q1216.92 1515.55 1216.92 1522.67 Q1216.92 1529.78 1218.72 1533.35 Q1220.55 1536.89 1224.16 1536.89 Q1227.8 1536.89 1229.6 1533.35 Q1231.43 1529.78 1231.43 1522.67 Q1231.43 1515.55 1229.6 1512 Q1227.8 1508.44 1224.16 1508.44 M1224.16 1504.73 Q1229.97 1504.73 1233.03 1509.34 Q1236.11 1513.92 1236.11 1522.67 Q1236.11 1531.4 1233.03 1536.01 Q1229.97 1540.59 1224.16 1540.59 Q1218.35 1540.59 1215.27 1536.01 Q1212.22 1531.4 1212.22 1522.67 Q1212.22 1513.92 1215.27 1509.34 Q1218.35 1504.73 1224.16 1504.73 Z\" fill=\"#000000\" fill-rule=\"evenodd\" fill-opacity=\"1\" /><path clip-path=\"url(#clip430)\" d=\"M 0 0 M1251.18 1508.44 Q1247.57 1508.44 1245.74 1512 Q1243.93 1515.55 1243.93 1522.67 Q1243.93 1529.78 1245.74 1533.35 Q1247.57 1536.89 1251.18 1536.89 Q1254.81 1536.89 1256.62 1533.35 Q1258.45 1529.78 1258.45 1522.67 Q1258.45 1515.55 1256.62 1512 Q1254.81 1508.44 1251.18 1508.44 M1251.18 1504.73 Q1256.99 1504.73 1260.04 1509.34 Q1263.12 1513.92 1263.12 1522.67 Q1263.12 1531.4 1260.04 1536.01 Q1256.99 1540.59 1251.18 1540.59 Q1245.37 1540.59 1242.29 1536.01 Q1239.23 1531.4 1239.23 1522.67 Q1239.23 1513.92 1242.29 1509.34 Q1245.37 1504.73 1251.18 1504.73 Z\" fill=\"#000000\" fill-rule=\"evenodd\" fill-opacity=\"1\" /><path clip-path=\"url(#clip430)\" d=\"M 0 0 M1458.69 1508.44 Q1455.08 1508.44 1453.25 1512 Q1451.44 1515.55 1451.44 1522.67 Q1451.44 1529.78 1453.25 1533.35 Q1455.08 1536.89 1458.69 1536.89 Q1462.32 1536.89 1464.13 1533.35 Q1465.96 1529.78 1465.96 1522.67 Q1465.96 1515.55 1464.13 1512 Q1462.32 1508.44 1458.69 1508.44 M1458.69 1504.73 Q1464.5 1504.73 1467.55 1509.34 Q1470.63 1513.92 1470.63 1522.67 Q1470.63 1531.4 1467.55 1536.01 Q1464.5 1540.59 1458.69 1540.59 Q1452.88 1540.59 1449.8 1536.01 Q1446.74 1531.4 1446.74 1522.67 Q1446.74 1513.92 1449.8 1509.34 Q1452.88 1504.73 1458.69 1504.73 Z\" fill=\"#000000\" fill-rule=\"evenodd\" fill-opacity=\"1\" /><path clip-path=\"url(#clip430)\" d=\"M 0 0 M1475.7 1534.04 L1480.58 1534.04 L1480.58 1539.92 L1475.7 1539.92 L1475.7 1534.04 Z\" fill=\"#000000\" fill-rule=\"evenodd\" fill-opacity=\"1\" /><path clip-path=\"url(#clip430)\" d=\"M 0 0 M1495.65 1508.44 Q1492.04 1508.44 1490.21 1512 Q1488.41 1515.55 1488.41 1522.67 Q1488.41 1529.78 1490.21 1533.35 Q1492.04 1536.89 1495.65 1536.89 Q1499.29 1536.89 1501.09 1533.35 Q1502.92 1529.78 1502.92 1522.67 Q1502.92 1515.55 1501.09 1512 Q1499.29 1508.44 1495.65 1508.44 M1495.65 1504.73 Q1501.46 1504.73 1504.52 1509.34 Q1507.6 1513.92 1507.6 1522.67 Q1507.6 1531.4 1504.52 1536.01 Q1501.46 1540.59 1495.65 1540.59 Q1489.84 1540.59 1486.77 1536.01 Q1483.71 1531.4 1483.71 1522.67 Q1483.71 1513.92 1486.77 1509.34 Q1489.84 1504.73 1495.65 1504.73 Z\" fill=\"#000000\" fill-rule=\"evenodd\" fill-opacity=\"1\" /><path clip-path=\"url(#clip430)\" d=\"M 0 0 M1522.67 1508.44 Q1519.06 1508.44 1517.23 1512 Q1515.42 1515.55 1515.42 1522.67 Q1515.42 1529.78 1517.23 1533.35 Q1519.06 1536.89 1522.67 1536.89 Q1526.3 1536.89 1528.11 1533.35 Q1529.94 1529.78 1529.94 1522.67 Q1529.94 1515.55 1528.11 1512 Q1526.3 1508.44 1522.67 1508.44 M1522.67 1504.73 Q1528.48 1504.73 1531.53 1509.34 Q1534.61 1513.92 1534.61 1522.67 Q1534.61 1531.4 1531.53 1536.01 Q1528.48 1540.59 1522.67 1540.59 Q1516.86 1540.59 1513.78 1536.01 Q1510.72 1531.4 1510.72 1522.67 Q1510.72 1513.92 1513.78 1509.34 Q1516.86 1504.73 1522.67 1504.73 Z\" fill=\"#000000\" fill-rule=\"evenodd\" fill-opacity=\"1\" /><path clip-path=\"url(#clip430)\" d=\"M 0 0 M1549.68 1508.44 Q1546.07 1508.44 1544.24 1512 Q1542.44 1515.55 1542.44 1522.67 Q1542.44 1529.78 1544.24 1533.35 Q1546.07 1536.89 1549.68 1536.89 Q1553.32 1536.89 1555.12 1533.35 Q1556.95 1529.78 1556.95 1522.67 Q1556.95 1515.55 1555.12 1512 Q1553.32 1508.44 1549.68 1508.44 M1549.68 1504.73 Q1555.49 1504.73 1558.55 1509.34 Q1561.63 1513.92 1561.63 1522.67 Q1561.63 1531.4 1558.55 1536.01 Q1555.49 1540.59 1549.68 1540.59 Q1543.87 1540.59 1540.79 1536.01 Q1537.74 1531.4 1537.74 1522.67 Q1537.74 1513.92 1540.79 1509.34 Q1543.87 1504.73 1549.68 1504.73 Z\" fill=\"#000000\" fill-rule=\"evenodd\" fill-opacity=\"1\" /><path clip-path=\"url(#clip430)\" d=\"M 0 0 M1566.74 1505.36 L1585.1 1505.36 L1585.1 1509.3 L1571.02 1509.3 L1571.02 1517.77 Q1572.04 1517.42 1573.06 1517.26 Q1574.08 1517.07 1575.1 1517.07 Q1580.89 1517.07 1584.26 1520.24 Q1587.64 1523.42 1587.64 1528.83 Q1587.64 1534.41 1584.17 1537.51 Q1580.7 1540.59 1574.38 1540.59 Q1572.2 1540.59 1569.94 1540.22 Q1567.69 1539.85 1565.28 1539.11 L1565.28 1534.41 Q1567.37 1535.54 1569.59 1536.1 Q1571.81 1536.66 1574.29 1536.66 Q1578.29 1536.66 1580.63 1534.55 Q1582.97 1532.44 1582.97 1528.83 Q1582.97 1525.22 1580.63 1523.11 Q1578.29 1521.01 1574.29 1521.01 Q1572.41 1521.01 1570.54 1521.42 Q1568.69 1521.84 1566.74 1522.72 L1566.74 1505.36 Z\" fill=\"#000000\" fill-rule=\"evenodd\" fill-opacity=\"1\" /><path clip-path=\"url(#clip430)\" d=\"M 0 0 M1783.82 1508.44 Q1780.21 1508.44 1778.38 1512 Q1776.58 1515.55 1776.58 1522.67 Q1776.58 1529.78 1778.38 1533.35 Q1780.21 1536.89 1783.82 1536.89 Q1787.46 1536.89 1789.26 1533.35 Q1791.09 1529.78 1791.09 1522.67 Q1791.09 1515.55 1789.26 1512 Q1787.46 1508.44 1783.82 1508.44 M1783.82 1504.73 Q1789.63 1504.73 1792.69 1509.34 Q1795.77 1513.92 1795.77 1522.67 Q1795.77 1531.4 1792.69 1536.01 Q1789.63 1540.59 1783.82 1540.59 Q1778.01 1540.59 1774.93 1536.01 Q1771.88 1531.4 1771.88 1522.67 Q1771.88 1513.92 1774.93 1509.34 Q1778.01 1504.73 1783.82 1504.73 Z\" fill=\"#000000\" fill-rule=\"evenodd\" fill-opacity=\"1\" /><path clip-path=\"url(#clip430)\" d=\"M 0 0 M1800.84 1534.04 L1805.72 1534.04 L1805.72 1539.92 L1800.84 1539.92 L1800.84 1534.04 Z\" fill=\"#000000\" fill-rule=\"evenodd\" fill-opacity=\"1\" /><path clip-path=\"url(#clip430)\" d=\"M 0 0 M1820.79 1508.44 Q1817.18 1508.44 1815.35 1512 Q1813.54 1515.55 1813.54 1522.67 Q1813.54 1529.78 1815.35 1533.35 Q1817.18 1536.89 1820.79 1536.89 Q1824.42 1536.89 1826.23 1533.35 Q1828.06 1529.78 1828.06 1522.67 Q1828.06 1515.55 1826.23 1512 Q1824.42 1508.44 1820.79 1508.44 M1820.79 1504.73 Q1826.6 1504.73 1829.66 1509.34 Q1832.73 1513.92 1832.73 1522.67 Q1832.73 1531.4 1829.66 1536.01 Q1826.6 1540.59 1820.79 1540.59 Q1814.98 1540.59 1811.9 1536.01 Q1808.85 1531.4 1808.85 1522.67 Q1808.85 1513.92 1811.9 1509.34 Q1814.98 1504.73 1820.79 1504.73 Z\" fill=\"#000000\" fill-rule=\"evenodd\" fill-opacity=\"1\" /><path clip-path=\"url(#clip430)\" d=\"M 0 0 M1847.8 1508.44 Q1844.19 1508.44 1842.36 1512 Q1840.56 1515.55 1840.56 1522.67 Q1840.56 1529.78 1842.36 1533.35 Q1844.19 1536.89 1847.8 1536.89 Q1851.44 1536.89 1853.24 1533.35 Q1855.07 1529.78 1855.07 1522.67 Q1855.07 1515.55 1853.24 1512 Q1851.44 1508.44 1847.8 1508.44 M1847.8 1504.73 Q1853.61 1504.73 1856.67 1509.34 Q1859.75 1513.92 1859.75 1522.67 Q1859.75 1531.4 1856.67 1536.01 Q1853.61 1540.59 1847.8 1540.59 Q1841.99 1540.59 1838.92 1536.01 Q1835.86 1531.4 1835.86 1522.67 Q1835.86 1513.92 1838.92 1509.34 Q1841.99 1504.73 1847.8 1504.73 Z\" fill=\"#000000\" fill-rule=\"evenodd\" fill-opacity=\"1\" /><path clip-path=\"url(#clip430)\" d=\"M 0 0 M1865.63 1535.98 L1873.27 1535.98 L1873.27 1509.62 L1864.96 1511.29 L1864.96 1507.03 L1873.22 1505.36 L1877.9 1505.36 L1877.9 1535.98 L1885.54 1535.98 L1885.54 1539.92 L1865.63 1539.92 L1865.63 1535.98 Z\" fill=\"#000000\" fill-rule=\"evenodd\" fill-opacity=\"1\" /><path clip-path=\"url(#clip430)\" d=\"M 0 0 M1900.6 1508.44 Q1896.99 1508.44 1895.16 1512 Q1893.36 1515.55 1893.36 1522.67 Q1893.36 1529.78 1895.16 1533.35 Q1896.99 1536.89 1900.6 1536.89 Q1904.24 1536.89 1906.04 1533.35 Q1907.87 1529.78 1907.87 1522.67 Q1907.87 1515.55 1906.04 1512 Q1904.24 1508.44 1900.6 1508.44 M1900.6 1504.73 Q1906.41 1504.73 1909.47 1509.34 Q1912.55 1513.92 1912.55 1522.67 Q1912.55 1531.4 1909.47 1536.01 Q1906.41 1540.59 1900.6 1540.59 Q1894.79 1540.59 1891.72 1536.01 Q1888.66 1531.4 1888.66 1522.67 Q1888.66 1513.92 1891.72 1509.34 Q1894.79 1504.73 1900.6 1504.73 Z\" fill=\"#000000\" fill-rule=\"evenodd\" fill-opacity=\"1\" /><path clip-path=\"url(#clip430)\" d=\"M 0 0 M2109.34 1508.44 Q2105.73 1508.44 2103.9 1512 Q2102.1 1515.55 2102.1 1522.67 Q2102.1 1529.78 2103.9 1533.35 Q2105.73 1536.89 2109.34 1536.89 Q2112.98 1536.89 2114.78 1533.35 Q2116.61 1529.78 2116.61 1522.67 Q2116.61 1515.55 2114.78 1512 Q2112.98 1508.44 2109.34 1508.44 M2109.34 1504.73 Q2115.15 1504.73 2118.21 1509.34 Q2121.29 1513.92 2121.29 1522.67 Q2121.29 1531.4 2118.21 1536.01 Q2115.15 1540.59 2109.34 1540.59 Q2103.53 1540.59 2100.45 1536.01 Q2097.4 1531.4 2097.4 1522.67 Q2097.4 1513.92 2100.45 1509.34 Q2103.53 1504.73 2109.34 1504.73 Z\" fill=\"#000000\" fill-rule=\"evenodd\" fill-opacity=\"1\" /><path clip-path=\"url(#clip430)\" d=\"M 0 0 M2126.35 1534.04 L2131.24 1534.04 L2131.24 1539.92 L2126.35 1539.92 L2126.35 1534.04 Z\" fill=\"#000000\" fill-rule=\"evenodd\" fill-opacity=\"1\" /><path clip-path=\"url(#clip430)\" d=\"M 0 0 M2146.31 1508.44 Q2142.7 1508.44 2140.87 1512 Q2139.06 1515.55 2139.06 1522.67 Q2139.06 1529.78 2140.87 1533.35 Q2142.7 1536.89 2146.31 1536.89 Q2149.94 1536.89 2151.75 1533.35 Q2153.58 1529.78 2153.58 1522.67 Q2153.58 1515.55 2151.75 1512 Q2149.94 1508.44 2146.31 1508.44 M2146.31 1504.73 Q2152.12 1504.73 2155.17 1509.34 Q2158.25 1513.92 2158.25 1522.67 Q2158.25 1531.4 2155.17 1536.01 Q2152.12 1540.59 2146.31 1540.59 Q2140.5 1540.59 2137.42 1536.01 Q2134.36 1531.4 2134.36 1522.67 Q2134.36 1513.92 2137.42 1509.34 Q2140.5 1504.73 2146.31 1504.73 Z\" fill=\"#000000\" fill-rule=\"evenodd\" fill-opacity=\"1\" /><path clip-path=\"url(#clip430)\" d=\"M 0 0 M2173.32 1508.44 Q2169.71 1508.44 2167.88 1512 Q2166.08 1515.55 2166.08 1522.67 Q2166.08 1529.78 2167.88 1533.35 Q2169.71 1536.89 2173.32 1536.89 Q2176.96 1536.89 2178.76 1533.35 Q2180.59 1529.78 2180.59 1522.67 Q2180.59 1515.55 2178.76 1512 Q2176.96 1508.44 2173.32 1508.44 M2173.32 1504.73 Q2179.13 1504.73 2182.19 1509.34 Q2185.27 1513.92 2185.27 1522.67 Q2185.27 1531.4 2182.19 1536.01 Q2179.13 1540.59 2173.32 1540.59 Q2167.51 1540.59 2164.43 1536.01 Q2161.38 1531.4 2161.38 1522.67 Q2161.38 1513.92 2164.43 1509.34 Q2167.51 1504.73 2173.32 1504.73 Z\" fill=\"#000000\" fill-rule=\"evenodd\" fill-opacity=\"1\" /><path clip-path=\"url(#clip430)\" d=\"M 0 0 M2191.15 1535.98 L2198.79 1535.98 L2198.79 1509.62 L2190.47 1511.29 L2190.47 1507.03 L2198.74 1505.36 L2203.41 1505.36 L2203.41 1535.98 L2211.05 1535.98 L2211.05 1539.92 L2191.15 1539.92 L2191.15 1535.98 Z\" fill=\"#000000\" fill-rule=\"evenodd\" fill-opacity=\"1\" /><path clip-path=\"url(#clip430)\" d=\"M 0 0 M2216.17 1505.36 L2234.53 1505.36 L2234.53 1509.3 L2220.45 1509.3 L2220.45 1517.77 Q2221.47 1517.42 2222.49 1517.26 Q2223.51 1517.07 2224.53 1517.07 Q2230.31 1517.07 2233.69 1520.24 Q2237.07 1523.42 2237.07 1528.83 Q2237.07 1534.41 2233.6 1537.51 Q2230.13 1540.59 2223.81 1540.59 Q2221.63 1540.59 2219.36 1540.22 Q2217.12 1539.85 2214.71 1539.11 L2214.71 1534.41 Q2216.79 1535.54 2219.02 1536.1 Q2221.24 1536.66 2223.72 1536.66 Q2227.72 1536.66 2230.06 1534.55 Q2232.4 1532.44 2232.4 1528.83 Q2232.4 1525.22 2230.06 1523.11 Q2227.72 1521.01 2223.72 1521.01 Q2221.84 1521.01 2219.97 1521.42 Q2218.11 1521.84 2216.17 1522.72 L2216.17 1505.36 Z\" fill=\"#000000\" fill-rule=\"evenodd\" fill-opacity=\"1\" /><path clip-path=\"url(#clip430)\" d=\"M 0 0 M125.654 1431.51 Q122.043 1431.51 120.214 1435.08 Q118.408 1438.62 118.408 1445.75 Q118.408 1452.86 120.214 1456.42 Q122.043 1459.96 125.654 1459.96 Q129.288 1459.96 131.094 1456.42 Q132.922 1452.86 132.922 1445.75 Q132.922 1438.62 131.094 1435.08 Q129.288 1431.51 125.654 1431.51 M125.654 1427.81 Q131.464 1427.81 134.52 1432.42 Q137.598 1437 137.598 1445.75 Q137.598 1454.48 134.52 1459.08 Q131.464 1463.67 125.654 1463.67 Q119.844 1463.67 116.765 1459.08 Q113.709 1454.48 113.709 1445.75 Q113.709 1437 116.765 1432.42 Q119.844 1427.81 125.654 1427.81 Z\" fill=\"#000000\" fill-rule=\"evenodd\" fill-opacity=\"1\" /><path clip-path=\"url(#clip430)\" d=\"M 0 0 M89.6818 1038.28 L108.038 1038.28 L108.038 1042.22 L93.9642 1042.22 L93.9642 1050.69 Q94.9827 1050.34 96.0012 1050.18 Q97.0197 1049.99 98.0382 1049.99 Q103.825 1049.99 107.205 1053.16 Q110.584 1056.34 110.584 1061.75 Q110.584 1067.33 107.112 1070.43 Q103.64 1073.51 97.3206 1073.51 Q95.1447 1073.51 92.8762 1073.14 Q90.6309 1072.77 88.2235 1072.03 L88.2235 1067.33 Q90.3068 1068.47 92.529 1069.02 Q94.7512 1069.58 97.2281 1069.58 Q101.233 1069.58 103.571 1067.47 Q105.909 1065.36 105.909 1061.75 Q105.909 1058.14 103.571 1056.04 Q101.233 1053.93 97.2281 1053.93 Q95.3531 1053.93 93.4781 1054.35 Q91.6262 1054.76 89.6818 1055.64 L89.6818 1038.28 Z\" fill=\"#000000\" fill-rule=\"evenodd\" fill-opacity=\"1\" /><path clip-path=\"url(#clip430)\" d=\"M 0 0 M125.654 1041.36 Q122.043 1041.36 120.214 1044.92 Q118.408 1048.47 118.408 1055.6 Q118.408 1062.7 120.214 1066.27 Q122.043 1069.81 125.654 1069.81 Q129.288 1069.81 131.094 1066.27 Q132.922 1062.7 132.922 1055.6 Q132.922 1048.47 131.094 1044.92 Q129.288 1041.36 125.654 1041.36 M125.654 1037.66 Q131.464 1037.66 134.52 1042.26 Q137.598 1046.85 137.598 1055.6 Q137.598 1064.32 134.52 1068.93 Q131.464 1073.51 125.654 1073.51 Q119.844 1073.51 116.765 1068.93 Q113.709 1064.32 113.709 1055.6 Q113.709 1046.85 116.765 1042.26 Q119.844 1037.66 125.654 1037.66 Z\" fill=\"#000000\" fill-rule=\"evenodd\" fill-opacity=\"1\" /><path clip-path=\"url(#clip430)\" d=\"M 0 0 M63.6634 678.751 L71.3023 678.751 L71.3023 652.385 L62.9921 654.052 L62.9921 649.792 L71.256 648.126 L75.9319 648.126 L75.9319 678.751 L83.5707 678.751 L83.5707 682.686 L63.6634 682.686 L63.6634 678.751 Z\" fill=\"#000000\" fill-rule=\"evenodd\" fill-opacity=\"1\" /><path clip-path=\"url(#clip430)\" d=\"M 0 0 M98.6401 651.204 Q95.029 651.204 93.2003 654.769 Q91.3948 658.311 91.3948 665.44 Q91.3948 672.547 93.2003 676.112 Q95.029 679.653 98.6401 679.653 Q102.274 679.653 104.08 676.112 Q105.909 672.547 105.909 665.44 Q105.909 658.311 104.08 654.769 Q102.274 651.204 98.6401 651.204 M98.6401 647.501 Q104.45 647.501 107.506 652.107 Q110.584 656.69 110.584 665.44 Q110.584 674.167 107.506 678.774 Q104.45 683.357 98.6401 683.357 Q92.8299 683.357 89.7512 678.774 Q86.6957 674.167 86.6957 665.44 Q86.6957 656.69 89.7512 652.107 Q92.8299 647.501 98.6401 647.501 Z\" fill=\"#000000\" fill-rule=\"evenodd\" fill-opacity=\"1\" /><path clip-path=\"url(#clip430)\" d=\"M 0 0 M125.654 651.204 Q122.043 651.204 120.214 654.769 Q118.408 658.311 118.408 665.44 Q118.408 672.547 120.214 676.112 Q122.043 679.653 125.654 679.653 Q129.288 679.653 131.094 676.112 Q132.922 672.547 132.922 665.44 Q132.922 658.311 131.094 654.769 Q129.288 651.204 125.654 651.204 M125.654 647.501 Q131.464 647.501 134.52 652.107 Q137.598 656.69 137.598 665.44 Q137.598 674.167 134.52 678.774 Q131.464 683.357 125.654 683.357 Q119.844 683.357 116.765 678.774 Q113.709 674.167 113.709 665.44 Q113.709 656.69 116.765 652.107 Q119.844 647.501 125.654 647.501 Z\" fill=\"#000000\" fill-rule=\"evenodd\" fill-opacity=\"1\" /><path clip-path=\"url(#clip430)\" d=\"M 0 0 M64.6588 288.596 L72.2976 288.596 L72.2976 262.23 L63.9875 263.897 L63.9875 259.637 L72.2513 257.971 L76.9272 257.971 L76.9272 288.596 L84.5661 288.596 L84.5661 292.531 L64.6588 292.531 L64.6588 288.596 Z\" fill=\"#000000\" fill-rule=\"evenodd\" fill-opacity=\"1\" /><path clip-path=\"url(#clip430)\" d=\"M 0 0 M89.6818 257.971 L108.038 257.971 L108.038 261.906 L93.9642 261.906 L93.9642 270.378 Q94.9827 270.031 96.0012 269.869 Q97.0197 269.684 98.0382 269.684 Q103.825 269.684 107.205 272.855 Q110.584 276.026 110.584 281.443 Q110.584 287.021 107.112 290.123 Q103.64 293.202 97.3206 293.202 Q95.1447 293.202 92.8762 292.832 Q90.6309 292.461 88.2235 291.72 L88.2235 287.021 Q90.3068 288.156 92.529 288.711 Q94.7512 289.267 97.2281 289.267 Q101.233 289.267 103.571 287.16 Q105.909 285.054 105.909 281.443 Q105.909 277.832 103.571 275.725 Q101.233 273.619 97.2281 273.619 Q95.3531 273.619 93.4781 274.035 Q91.6262 274.452 89.6818 275.332 L89.6818 257.971 Z\" fill=\"#000000\" fill-rule=\"evenodd\" fill-opacity=\"1\" /><path clip-path=\"url(#clip430)\" d=\"M 0 0 M125.654 261.049 Q122.043 261.049 120.214 264.614 Q118.408 268.156 118.408 275.285 Q118.408 282.392 120.214 285.957 Q122.043 289.498 125.654 289.498 Q129.288 289.498 131.094 285.957 Q132.922 282.392 132.922 275.285 Q132.922 268.156 131.094 264.614 Q129.288 261.049 125.654 261.049 M125.654 257.346 Q131.464 257.346 134.52 261.952 Q137.598 266.535 137.598 275.285 Q137.598 284.012 134.52 288.619 Q131.464 293.202 125.654 293.202 Q119.844 293.202 116.765 288.619 Q113.709 284.012 113.709 275.285 Q113.709 266.535 116.765 261.952 Q119.844 257.346 125.654 257.346 Z\" fill=\"#000000\" fill-rule=\"evenodd\" fill-opacity=\"1\" /><path clip-path=\"url(#clip432)\" d=\"\n",
       "M282.116 1437.91 L282.116 1445.72 L412.124 1445.72 L412.124 1437.91 L282.116 1437.91 L282.116 1437.91  Z\n",
       "  \" fill=\"#009af9\" fill-rule=\"evenodd\" fill-opacity=\"1\"/>\n",
       "<polyline clip-path=\"url(#clip432)\" style=\"stroke:#000000; stroke-width:4; stroke-opacity:1; fill:none\" points=\"\n",
       "  282.116,1437.91 282.116,1445.72 412.124,1445.72 412.124,1437.91 282.116,1437.91 \n",
       "  \"/>\n",
       "<path clip-path=\"url(#clip432)\" d=\"\n",
       "M412.124 1352.08 L412.124 1445.72 L542.132 1445.72 L542.132 1352.08 L412.124 1352.08 L412.124 1352.08  Z\n",
       "  \" fill=\"#009af9\" fill-rule=\"evenodd\" fill-opacity=\"1\"/>\n",
       "<polyline clip-path=\"url(#clip432)\" style=\"stroke:#000000; stroke-width:4; stroke-opacity:1; fill:none\" points=\"\n",
       "  412.124,1352.08 412.124,1445.72 542.132,1445.72 542.132,1352.08 412.124,1352.08 \n",
       "  \"/>\n",
       "<path clip-path=\"url(#clip432)\" d=\"\n",
       "M542.132 1188.21 L542.132 1445.72 L672.14 1445.72 L672.14 1188.21 L542.132 1188.21 L542.132 1188.21  Z\n",
       "  \" fill=\"#009af9\" fill-rule=\"evenodd\" fill-opacity=\"1\"/>\n",
       "<polyline clip-path=\"url(#clip432)\" style=\"stroke:#000000; stroke-width:4; stroke-opacity:1; fill:none\" points=\"\n",
       "  542.132,1188.21 542.132,1445.72 672.14,1445.72 672.14,1188.21 542.132,1188.21 \n",
       "  \"/>\n",
       "<path clip-path=\"url(#clip432)\" d=\"\n",
       "M672.14 1149.2 L672.14 1445.72 L802.148 1445.72 L802.148 1149.2 L672.14 1149.2 L672.14 1149.2  Z\n",
       "  \" fill=\"#009af9\" fill-rule=\"evenodd\" fill-opacity=\"1\"/>\n",
       "<polyline clip-path=\"url(#clip432)\" style=\"stroke:#000000; stroke-width:4; stroke-opacity:1; fill:none\" points=\"\n",
       "  672.14,1149.2 672.14,1445.72 802.148,1445.72 802.148,1149.2 672.14,1149.2 \n",
       "  \"/>\n",
       "<path clip-path=\"url(#clip432)\" d=\"\n",
       "M802.148 532.753 L802.148 1445.72 L932.157 1445.72 L932.157 532.753 L802.148 532.753 L802.148 532.753  Z\n",
       "  \" fill=\"#009af9\" fill-rule=\"evenodd\" fill-opacity=\"1\"/>\n",
       "<polyline clip-path=\"url(#clip432)\" style=\"stroke:#000000; stroke-width:4; stroke-opacity:1; fill:none\" points=\"\n",
       "  802.148,532.753 802.148,1445.72 932.157,1445.72 932.157,532.753 802.148,532.753 \n",
       "  \"/>\n",
       "<path clip-path=\"url(#clip432)\" d=\"\n",
       "M932.157 314.266 L932.157 1445.72 L1062.16 1445.72 L1062.16 314.266 L932.157 314.266 L932.157 314.266  Z\n",
       "  \" fill=\"#009af9\" fill-rule=\"evenodd\" fill-opacity=\"1\"/>\n",
       "<polyline clip-path=\"url(#clip432)\" style=\"stroke:#000000; stroke-width:4; stroke-opacity:1; fill:none\" points=\"\n",
       "  932.157,314.266 932.157,1445.72 1062.16,1445.72 1062.16,314.266 932.157,314.266 \n",
       "  \"/>\n",
       "<path clip-path=\"url(#clip432)\" d=\"\n",
       "M1062.16 87.9763 L1062.16 1445.72 L1192.17 1445.72 L1192.17 87.9763 L1062.16 87.9763 L1062.16 87.9763  Z\n",
       "  \" fill=\"#009af9\" fill-rule=\"evenodd\" fill-opacity=\"1\"/>\n",
       "<polyline clip-path=\"url(#clip432)\" style=\"stroke:#000000; stroke-width:4; stroke-opacity:1; fill:none\" points=\"\n",
       "  1062.16,87.9763 1062.16,1445.72 1192.17,1445.72 1192.17,87.9763 1062.16,87.9763 \n",
       "  \"/>\n",
       "<path clip-path=\"url(#clip432)\" d=\"\n",
       "M1192.17 267.448 L1192.17 1445.72 L1322.18 1445.72 L1322.18 267.448 L1192.17 267.448 L1192.17 267.448  Z\n",
       "  \" fill=\"#009af9\" fill-rule=\"evenodd\" fill-opacity=\"1\"/>\n",
       "<polyline clip-path=\"url(#clip432)\" style=\"stroke:#000000; stroke-width:4; stroke-opacity:1; fill:none\" points=\"\n",
       "  1192.17,267.448 1192.17,1445.72 1322.18,1445.72 1322.18,267.448 1192.17,267.448 \n",
       "  \"/>\n",
       "<path clip-path=\"url(#clip432)\" d=\"\n",
       "M1322.18 423.51 L1322.18 1445.72 L1452.19 1445.72 L1452.19 423.51 L1322.18 423.51 L1322.18 423.51  Z\n",
       "  \" fill=\"#009af9\" fill-rule=\"evenodd\" fill-opacity=\"1\"/>\n",
       "<polyline clip-path=\"url(#clip432)\" style=\"stroke:#000000; stroke-width:4; stroke-opacity:1; fill:none\" points=\"\n",
       "  1322.18,423.51 1322.18,1445.72 1452.19,1445.72 1452.19,423.51 1322.18,423.51 \n",
       "  \"/>\n",
       "<path clip-path=\"url(#clip432)\" d=\"\n",
       "M1452.19 720.027 L1452.19 1445.72 L1582.2 1445.72 L1582.2 720.027 L1452.19 720.027 L1452.19 720.027  Z\n",
       "  \" fill=\"#009af9\" fill-rule=\"evenodd\" fill-opacity=\"1\"/>\n",
       "<polyline clip-path=\"url(#clip432)\" style=\"stroke:#000000; stroke-width:4; stroke-opacity:1; fill:none\" points=\"\n",
       "  1452.19,720.027 1452.19,1445.72 1582.2,1445.72 1582.2,720.027 1452.19,720.027 \n",
       "  \"/>\n",
       "<path clip-path=\"url(#clip432)\" d=\"\n",
       "M1582.2 1094.58 L1582.2 1445.72 L1712.21 1445.72 L1712.21 1094.58 L1582.2 1094.58 L1582.2 1094.58  Z\n",
       "  \" fill=\"#009af9\" fill-rule=\"evenodd\" fill-opacity=\"1\"/>\n",
       "<polyline clip-path=\"url(#clip432)\" style=\"stroke:#000000; stroke-width:4; stroke-opacity:1; fill:none\" points=\"\n",
       "  1582.2,1094.58 1582.2,1445.72 1712.21,1445.72 1712.21,1094.58 1582.2,1094.58 \n",
       "  \"/>\n",
       "<path clip-path=\"url(#clip432)\" d=\"\n",
       "M1712.21 1180.41 L1712.21 1445.72 L1842.21 1445.72 L1842.21 1180.41 L1712.21 1180.41 L1712.21 1180.41  Z\n",
       "  \" fill=\"#009af9\" fill-rule=\"evenodd\" fill-opacity=\"1\"/>\n",
       "<polyline clip-path=\"url(#clip432)\" style=\"stroke:#000000; stroke-width:4; stroke-opacity:1; fill:none\" points=\"\n",
       "  1712.21,1180.41 1712.21,1445.72 1842.21,1445.72 1842.21,1180.41 1712.21,1180.41 \n",
       "  \"/>\n",
       "<path clip-path=\"url(#clip432)\" d=\"\n",
       "M1842.21 1336.47 L1842.21 1445.72 L1972.22 1445.72 L1972.22 1336.47 L1842.21 1336.47 L1842.21 1336.47  Z\n",
       "  \" fill=\"#009af9\" fill-rule=\"evenodd\" fill-opacity=\"1\"/>\n",
       "<polyline clip-path=\"url(#clip432)\" style=\"stroke:#000000; stroke-width:4; stroke-opacity:1; fill:none\" points=\"\n",
       "  1842.21,1336.47 1842.21,1445.72 1972.22,1445.72 1972.22,1336.47 1842.21,1336.47 \n",
       "  \"/>\n",
       "<path clip-path=\"url(#clip432)\" d=\"\n",
       "M1972.22 1367.68 L1972.22 1445.72 L2102.23 1445.72 L2102.23 1367.68 L1972.22 1367.68 L1972.22 1367.68  Z\n",
       "  \" fill=\"#009af9\" fill-rule=\"evenodd\" fill-opacity=\"1\"/>\n",
       "<polyline clip-path=\"url(#clip432)\" style=\"stroke:#000000; stroke-width:4; stroke-opacity:1; fill:none\" points=\"\n",
       "  1972.22,1367.68 1972.22,1445.72 2102.23,1445.72 2102.23,1367.68 1972.22,1367.68 \n",
       "  \"/>\n",
       "<path clip-path=\"url(#clip432)\" d=\"\n",
       "M2102.23 1430.11 L2102.23 1445.72 L2232.24 1445.72 L2232.24 1430.11 L2102.23 1430.11 L2102.23 1430.11  Z\n",
       "  \" fill=\"#009af9\" fill-rule=\"evenodd\" fill-opacity=\"1\"/>\n",
       "<polyline clip-path=\"url(#clip432)\" style=\"stroke:#000000; stroke-width:4; stroke-opacity:1; fill:none\" points=\"\n",
       "  2102.23,1430.11 2102.23,1445.72 2232.24,1445.72 2232.24,1430.11 2102.23,1430.11 \n",
       "  \"/>\n",
       "<polyline clip-path=\"url(#clip432)\" style=\"stroke:#000000; stroke-width:8; stroke-opacity:1; fill:none\" points=\"\n",
       "  1158.33,2925.65 1158.33,-1391.96 \n",
       "  \"/>\n",
       "<path clip-path=\"url(#clip430)\" d=\"\n",
       "M1934.66 276.658 L2279.72 276.658 L2279.72 95.2176 L1934.66 95.2176  Z\n",
       "  \" fill=\"#ffffff\" fill-rule=\"evenodd\" fill-opacity=\"1\"/>\n",
       "<polyline clip-path=\"url(#clip430)\" style=\"stroke:#000000; stroke-width:4; stroke-opacity:1; fill:none\" points=\"\n",
       "  1934.66,276.658 2279.72,276.658 2279.72,95.2176 1934.66,95.2176 1934.66,276.658 \n",
       "  \"/>\n",
       "<path clip-path=\"url(#clip430)\" d=\"\n",
       "M1959 179.89 L2105.08 179.89 L2105.08 131.506 L1959 131.506 L1959 179.89  Z\n",
       "  \" fill=\"#009af9\" fill-rule=\"evenodd\" fill-opacity=\"1\"/>\n",
       "<polyline clip-path=\"url(#clip430)\" style=\"stroke:#000000; stroke-width:4; stroke-opacity:1; fill:none\" points=\"\n",
       "  1959,179.89 2105.08,179.89 2105.08,131.506 1959,131.506 1959,179.89 \n",
       "  \"/>\n",
       "<path clip-path=\"url(#clip430)\" d=\"M 0 0 M2143.27 175.385 Q2141.47 180.015 2139.75 181.427 Q2138.04 182.839 2135.17 182.839 L2131.77 182.839 L2131.77 179.274 L2134.27 179.274 Q2136.03 179.274 2137 178.44 Q2137.97 177.607 2139.15 174.505 L2139.91 172.561 L2129.43 147.052 L2133.94 147.052 L2142.04 167.329 L2150.15 147.052 L2154.66 147.052 L2143.27 175.385 Z\" fill=\"#000000\" fill-rule=\"evenodd\" fill-opacity=\"1\" /><path clip-path=\"url(#clip430)\" d=\"M 0 0 M2160.54 169.042 L2168.18 169.042 L2168.18 142.677 L2159.87 144.343 L2159.87 140.084 L2168.13 138.418 L2172.81 138.418 L2172.81 169.042 L2180.45 169.042 L2180.45 172.978 L2160.54 172.978 L2160.54 169.042 Z\" fill=\"#000000\" fill-rule=\"evenodd\" fill-opacity=\"1\" /><polyline clip-path=\"url(#clip430)\" style=\"stroke:#000000; stroke-width:4; stroke-opacity:1; fill:none\" points=\"\n",
       "  1959,216.178 2105.08,216.178 \n",
       "  \"/>\n",
       "<path clip-path=\"url(#clip430)\" d=\"M 0 0 M2129.43 198.898 L2136.4 198.898 L2145.22 222.416 L2154.08 198.898 L2161.05 198.898 L2161.05 233.458 L2156.49 233.458 L2156.49 203.11 L2147.58 226.814 L2142.88 226.814 L2133.97 203.11 L2133.97 233.458 L2129.43 233.458 L2129.43 198.898 Z\" fill=\"#000000\" fill-rule=\"evenodd\" fill-opacity=\"1\" /><path clip-path=\"url(#clip430)\" d=\"M 0 0 M2165.7 198.898 L2172.67 198.898 L2181.49 222.416 L2190.35 198.898 L2197.32 198.898 L2197.32 233.458 L2192.76 233.458 L2192.76 203.11 L2183.85 226.814 L2179.15 226.814 L2170.24 203.11 L2170.24 233.458 L2165.7 233.458 L2165.7 198.898 Z\" fill=\"#000000\" fill-rule=\"evenodd\" fill-opacity=\"1\" /><path clip-path=\"url(#clip430)\" d=\"M 0 0 M2206.65 202.74 L2206.65 229.615 L2212.3 229.615 Q2219.45 229.615 2222.76 226.374 Q2226.09 223.134 2226.09 216.143 Q2226.09 209.198 2222.76 205.981 Q2219.45 202.74 2212.3 202.74 L2206.65 202.74 M2201.97 198.898 L2211.58 198.898 Q2221.63 198.898 2226.33 203.087 Q2231.02 207.254 2231.02 216.143 Q2231.02 225.078 2226.3 229.268 Q2221.58 233.458 2211.58 233.458 L2201.97 233.458 L2201.97 198.898 Z\" fill=\"#000000\" fill-rule=\"evenodd\" fill-opacity=\"1\" /></svg>\n"
      ]
     },
     "execution_count": 12,
     "metadata": {},
     "output_type": "execute_result"
    }
   ],
   "source": [
    "plot_prior_ix = 3\n",
    "plot_method_ix = 5\n",
    "histogram(bootstraps[plot_prior_ix, plot_method_ix, :])\n",
    "vline!([mmds[plot_prior_ix, plot_method_ix]], linewidth=2, linecolor=\"black\", label=\"MMD\")"
   ]
  },
  {
   "cell_type": "code",
   "execution_count": 15,
   "metadata": {},
   "outputs": [
    {
     "data": {
      "text/plain": [
       "print_table (generic function with 1 method)"
      ]
     },
     "execution_count": 15,
     "metadata": {},
     "output_type": "execute_result"
    }
   ],
   "source": [
    "using Printf\n",
    "function print_table(mmds, qs)\n",
    "    for i = 1:size(mmds,1)\n",
    "        print(\"& \\\\textsc{mmd}\")\n",
    "        for j = 1:size(mmds,2)\n",
    "            @printf(\" & %.2e\", mmds[i,j])\n",
    "        end\n",
    "        println(\" \\\\\\\\\")\n",
    "        print(\"& \\$q\\$\")\n",
    "        for j = 1:size(qs,2)\n",
    "            @printf(\" & %.2f\", qs[i,j])\n",
    "        end\n",
    "        println(\" \\\\\\\\\\\\hline\")\n",
    "    end\n",
    "end"
   ]
  },
  {
   "cell_type": "code",
   "execution_count": 16,
   "metadata": {},
   "outputs": [
    {
     "name": "stdout",
     "output_type": "stream",
     "text": [
      "& \\textsc{mmd} & -7.75e-06 & -3.52e-05 & 8.84e-05 & -2.46e-05 & 5.30e-05 & 9.17e-04 \\\\\n",
      "& $q$ & 0.52 & 0.55 & 0.42 & 0.54 & 0.40 & 0.05 \\\\\\hline\n",
      "& \\textsc{mmd} & -1.69e-04 & -1.95e-04 & -1.94e-04 & -2.42e-04 & -1.87e-04 & 2.88e-03 \\\\\n",
      "& $q$ & 0.57 & 0.65 & 0.64 & 0.67 & 0.61 & 0.00 \\\\\\hline\n",
      "& \\textsc{mmd} & 1.25e-04 & -2.74e-05 & 7.17e-05 & 8.83e-06 & -5.21e-05 & 4.45e-03 \\\\\n",
      "& $q$ & 0.39 & 0.50 & 0.43 & 0.47 & 0.52 & 0.00 \\\\\\hline\n"
     ]
    }
   ],
   "source": [
    "print_table(mmds, qs)"
   ]
  },
  {
   "cell_type": "markdown",
   "metadata": {},
   "source": [
    "### Plots of Results\n",
    "\n",
    "#### Richardson Bootstrap MMD Compared to MMD"
   ]
  },
  {
   "cell_type": "code",
   "execution_count": 18,
   "metadata": {},
   "outputs": [
    {
     "ename": "UndefVarError",
     "evalue": "UndefVarError: boot_r not defined",
     "output_type": "error",
     "traceback": [
      "UndefVarError: boot_r not defined",
      "",
      "Stacktrace:",
      " [1] top-level scope at In[18]:1"
     ]
    }
   ],
   "source": [
    "histogram(boot_r, label=\"Bootstrap MMD Distribution\")\n",
    "vline!([results[1,1]], linewidth=2, linecolor=\"black\", label=\"MMD\")\n"
   ]
  },
  {
   "cell_type": "markdown",
   "metadata": {},
   "source": [
    "#### Richardson compared to 1-$\\alpha$"
   ]
  },
  {
   "cell_type": "code",
   "execution_count": 19,
   "metadata": {},
   "outputs": [
    {
     "ename": "UndefVarError",
     "evalue": "UndefVarError: boot_r not defined",
     "output_type": "error",
     "traceback": [
      "UndefVarError: boot_r not defined",
      "",
      "Stacktrace:",
      " [1] top-level scope at In[19]:2"
     ]
    }
   ],
   "source": [
    "α = .99\n",
    "histogram(boot_r, label=\"Bootstrap MMD Distribution\")\n",
    "vline!([1-α], linewidth=2, linecolor=\"black\", label=\"1 - α\")"
   ]
  },
  {
   "cell_type": "markdown",
   "metadata": {},
   "source": [
    "#### BayesCG Bootstrap MMD Compared to MMD"
   ]
  },
  {
   "cell_type": "code",
   "execution_count": 20,
   "metadata": {},
   "outputs": [
    {
     "ename": "UndefVarError",
     "evalue": "UndefVarError: boot_bayescg not defined",
     "output_type": "error",
     "traceback": [
      "UndefVarError: boot_bayescg not defined",
      "",
      "Stacktrace:",
      " [1] top-level scope at In[20]:1"
     ]
    }
   ],
   "source": [
    "histogram(boot_bayescg, label=\"Bootstrap MMD Distribution\")\n",
    "vline!([results[1,6]], linewidth=2, linecolor=\"black\", label=\"MMD\")\n"
   ]
  },
  {
   "cell_type": "markdown",
   "metadata": {},
   "source": [
    "#### BayesCG Bootstrap MMD compared to 1-$\\alpha$"
   ]
  },
  {
   "cell_type": "code",
   "execution_count": 21,
   "metadata": {},
   "outputs": [
    {
     "ename": "UndefVarError",
     "evalue": "UndefVarError: boot_bayescg not defined",
     "output_type": "error",
     "traceback": [
      "UndefVarError: boot_bayescg not defined",
      "",
      "Stacktrace:",
      " [1] top-level scope at In[21]:2"
     ]
    }
   ],
   "source": [
    "α = 0.99\n",
    "histogram(boot_bayescg, label=\"Bootstrap MMD Distribution\")\n",
    "vline!([1-α], linewidth=2, linecolor=\"black\", label=\"1 - α\")\n"
   ]
  }
 ],
 "metadata": {
  "kernelspec": {
   "display_name": "Julia 1.3.1",
   "language": "julia",
   "name": "julia-1.3"
  },
  "language_info": {
   "file_extension": ".jl",
   "mimetype": "application/julia",
   "name": "julia",
   "version": "1.3.1"
  },
  "toc": {
   "base_numbering": 1,
   "nav_menu": {},
   "number_sections": true,
   "sideBar": true,
   "skip_h1_title": false,
   "title_cell": "Table of Contents",
   "title_sidebar": "Contents",
   "toc_cell": false,
   "toc_position": {},
   "toc_section_display": true,
   "toc_window_display": true
  }
 },
 "nbformat": 4,
 "nbformat_minor": 2
}
